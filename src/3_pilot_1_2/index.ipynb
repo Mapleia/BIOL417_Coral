{
 "cells": [
  {
   "cell_type": "markdown",
   "metadata": {},
   "source": [
    "# Pilot 1 & 2\n",
    "I've pivoted away from the initial idea of comparing with plasmids, and instead I'm going to focus on the 16S rRNA gene."
   ]
  },
  {
   "cell_type": "markdown",
   "metadata": {},
   "source": [
    "## Basic analysis\n",
    "\n",
    "Based on the paper {cite:t}`Pike_2013`, I wanted to expand on their phylogenetic analysis that mainly used ME (minimum evolution) method. I wanted to see if I could replicate their results using a different method, and also see if I could improve on their results by adding more 16S sequences.\n",
    "\n",
    "1. They took their 16S ribosomal RNA samples and sequenced them.\n",
    "2. They used BLASTN to quantify phylogenetic relatedness of sequences within GenBank.\n",
    "3. They also used EzTaxon (now called EzBioCloud) to identify the closest relatives of their sequences.\n",
    "4. They aligned using BioEdit v7.0.5.3.\n",
    "\n",
    "    > BioEdit is (was) a sequence alignment editor written for Windows 95/98/NT/2000/XP/7. It is free for academic and non-profit use. It is no longer supported, but the last version is still available for download. It is not available for Mac or Linux. {cite:p}`hall1999bioedit`\n",
    "\n",
    "5. They used MEGA v4.0 (2007) {cite}`Tamura_2007` to construct a phylogenetic tree using the:\n",
    "\n",
    "    Generally:\n",
    "    - Neighbor-joining method: for initial tree construction\n",
    "    - bootstrapping with 1000 replications\n",
    "    - distance calculated with Jukes-Cantor model\n",
    "\n",
    "    Method 1:\n",
    "    - minimum evolution method: close-neighbour-interchange algorithm @ level 1\n",
    "    - complete deletion of gaps/missing data @ all positions\n",
    "\n",
    "    Method 2:\n",
    "    - maximum parsimony method\n",
    "\n",
    "    Method 3:\n",
    "    - UPGMA method\n",
    "\n",
    "    > MEGA v4.0 (2007) is a program for conducting molecular evolutionary analysis of DNA sequences. Depending on the version, it packages many of the workflows used in phylogenetic analysis in one program. Particularily for v4.0, they boast the ability to generate captions, and use maximum composite likelihood (MCL) method to estimate evolutionary distances between all pairs. Recent version has expanded it's feature set and performance. It is available for Windows, Mac and Linux. It is free for academic and non-profit use. {cite:p}`Tamura_2007`\n",
    "\n",
    "\n",
    "```{figure} ../../outputs/pike_basic_analysis/papers_tree.png\n",
    "---\n",
    "name: pike-2013-tree\n",
    "---\n",
    "Tree showing the phylogenetic relationship of Endozoicomonas to other bacterial species (43 type strains based on 16S rRNA gene sequences).\n",
    "```\n",
    "\n",
    "But first, we need to wrangle our data."
   ]
  },
  {
   "cell_type": "markdown",
   "metadata": {},
   "source": [
    "## Wrangle data"
   ]
  },
  {
   "cell_type": "code",
   "execution_count": 1,
   "metadata": {},
   "outputs": [],
   "source": [
    "from Bio import SeqIO\n",
    "from Bio.SeqRecord import SeqRecord\n",
    "import os"
   ]
  },
  {
   "cell_type": "markdown",
   "metadata": {},
   "source": [
    "Lets write a function that can take a list of directories and return all of the fasta sequences within them."
   ]
  },
  {
   "cell_type": "code",
   "execution_count": 7,
   "metadata": {},
   "outputs": [],
   "source": [
    "dir_paths = [os.path.realpath(\"../../datasets/common\"),\n",
    "             os.path.realpath(\"../../datasets/pike_basic_analysis\")]"
   ]
  },
  {
   "cell_type": "code",
   "execution_count": 3,
   "metadata": {},
   "outputs": [],
   "source": [
    "def parse_fasta(dir_paths: list[str]) -> list[SeqRecord]:\n",
    "  fasta_records: list[SeqRecord] = []\n",
    "\n",
    "  if isinstance(dir_paths, list):\n",
    "    for dir_path in dir_paths:\n",
    "        for path in os.listdir(dir_path):\n",
    "          file = os.path.join(dir_path, path)\n",
    "          if \"fasta\" in file:\n",
    "            fasta_record = list(SeqIO.parse(open(file), \"fasta\"))\n",
    "            fasta_records = fasta_records + fasta_record\n",
    "\n",
    "  else:\n",
    "    raise TypeError(\"dir_paths must be a string or list of strings\")\n",
    "\n",
    "  return fasta_records"
   ]
  },
  {
   "cell_type": "code",
   "execution_count": 4,
   "metadata": {},
   "outputs": [],
   "source": [
    "def remove_duplicate(fasta_records: list):\n",
    "  accession_ids: list[str] = []\n",
    "  duplicates = []\n",
    "  duplicate_ids = []\n",
    "\n",
    "  retained_records = []\n",
    "  for idx, fasta in enumerate(fasta_records):\n",
    "    if fasta.id in accession_ids:\n",
    "      duplicates.append(idx)\n",
    "      duplicate_ids.append(fasta.id)\n",
    "    else:\n",
    "      retained_records.append(fasta)\n",
    "    accession_ids.append(fasta.id)\n",
    "\n",
    "  return duplicates, duplicate_ids, retained_records"
   ]
  },
  {
   "cell_type": "code",
   "execution_count": 5,
   "metadata": {},
   "outputs": [],
   "source": [
    "def write_unaligned_fasta(dir_paths_for_fastas: list[str], id_path_str: str):\n",
    "  dir_path = os.path.dirname(id_path_str)\n",
    "  ids = open(id_path_str).read().splitlines()\n",
    "  fasta_records = parse_fasta(dir_paths_for_fastas)\n",
    "  duplicates, duplicate_ids, retained_records = remove_duplicate(fasta_records)\n",
    "  filtered = list(filter(lambda x: x.id in ids, retained_records))\n",
    "  SeqIO.write(filtered, os.path.join(dir_path, \"all_unaligned.fasta\"), \"fasta\")\n",
    "  print(\"Done writing unaligned fasta\")\n",
    "  return filtered\n"
   ]
  },
  {
   "cell_type": "markdown",
   "metadata": {},
   "source": [
    "## Pike et al (2013) basic analysis\n",
    "\n",
    "Let us load the fasta files for the 16S sequences from the Pike et al (2013) study.\n",
    "\n",
    "**To repeat the basic analysis, I did the following:**\n",
    "\n",
    "1. I downloaded [MEGA but version 11](https://www.megasoftware.net/) {cite:p}`Tamura_2021`.\n",
    "2. I downloaded the 16S sequences using the [accession ID](../../outputs/pike_basic_analysis/list_of_accession.txt) in the Endozoicomonas subtree ({numref}`pike-2013-tree`).\n",
    "3. I concatenated the sequences (see below).\n",
    "4. I aligned the sequences using MUSCLE v5.1 {cite:p}`Edgar_2022`.\n",
    "\n",
    "    ```bash\n",
    "    muscle5.1 -align outputs/pike_basic_analysis/all_unaligned.fasta -output outputs/pike_basic_analysis/muscle_aligned.fasta\n",
    "    ```\n",
    "\n",
    "4. Inside MEGA I selected the following settings:\n",
    "\n",
    ":::{table} MEGA settings to repeat basic analysis\n",
    "| Setting | Value |\n",
    "| --- | --- |\n",
    "| Scope | All taxa |\n",
    "| Statistical method | Maximum evolution |\n",
    "| Test of phylogeny | Bootstrap method |\n",
    "| No. of bootstrap replicates | 1000 |\n",
    "| Substitution type | Nucleotide |\n",
    "| Model/method | Juke-Cantor model |\n",
    "| Gaps/missing data treatment | Complete deletion |\n",
    "| ME Search Level | 1 |\n",
    ":::"
   ]
  },
  {
   "cell_type": "code",
   "execution_count": 8,
   "metadata": {},
   "outputs": [
    {
     "name": "stdout",
     "output_type": "stream",
     "text": [
      "Done writing unaligned fasta\n"
     ]
    },
    {
     "data": {
      "text/plain": [
       "[SeqRecord(seq=Seq('CTGGCTCAGATTGAACGCTGGCGGCAGGCCTAACACATGCAAGTCGAGCGGTAG...CGG'), id='AB196667.1', name='AB196667.1', description='AB196667.1 Endozoicimonas elysicola gene for 16S ribosomal RNA, partial sequence', dbxrefs=[]),\n",
       " SeqRecord(seq=Seq('ATTGAACGCTGGCGGCAGGCCTAACACATGCAAGTCGAGCGGTAACAGAACTAG...AAG'), id='AB695088.1', name='AB695088.1', description='AB695088.1 Endozoicomonas numazuensis gene for 16S rRNA, partial sequence', dbxrefs=[]),\n",
       " SeqRecord(seq=Seq('TGCAAGTCGAGCGGTAACAGAACTAGCTTGCTAGTTGCTGACGAGCGGCGGACG...AAG'), id='FJ347758.1', name='FJ347758.1', description='FJ347758.1 Endozoicomonas montiporae CL-33 16S ribosomal RNA gene, partial sequence', dbxrefs=[]),\n",
       " SeqRecord(seq=Seq('AGAGTTTTGGATCTGGCTCAGATTGAACGCTGGCGGCAGGCCTAACACATGCAA...GGC'), id='JX488684.2', name='JX488684.2', description='JX488684.2 Endozoicomonas euniceicola strain EF212 16S ribosomal RNA gene, partial sequence', dbxrefs=[]),\n",
       " SeqRecord(seq=Seq('AGAGTTTGATCCTGGCGCAGATTGAACGCTGGCGGCAGGCCTAACACATGCAAG...GTC'), id='JX488685.1', name='JX488685.1', description='JX488685.1 Endozoicomonas gorgoniicola strain PS125 16S ribosomal RNA gene, partial sequence', dbxrefs=[])]"
      ]
     },
     "execution_count": 8,
     "metadata": {},
     "output_type": "execute_result"
    }
   ],
   "source": [
    "write_unaligned_fasta(dir_paths, \"../../outputs/pike_basic_analysis/list_of_accession.txt\")"
   ]
  },
  {
   "cell_type": "markdown",
   "metadata": {},
   "source": [
    "## Pilot Analysis (1 & 2)\n",
    "\n",
    "To make improvement on the basic analysis, I added more 16S sequences by searching for Endozoicomonas & coral in the NCBI database. I targeted sequences that were fairly long (~1000 or more, except for one sequence) I downloaded the sequences and aligned them using MUSCLE (v.5.1) from CLI {cite:p}`Edgar_2022`.\n",
    "\n",
    ":::{table} List of sequences added to the alignment\n",
    "| Species (or Isolate/Strain) | Description | Length | Accession | GI |\n",
    "| :------ | :---------: | :----- | :-------- | :- |\n",
    "| Endozoicomonas **atrinae** strain WP70 | 16S ribosomal RNA gene, partial sequence | 1,465 bp linear DNA | KC878324.1 | 499141103 |\n",
    "| Endozoicomonas **montiporae** strain Ab112_MC | 16S ribosomal RNA (16S) gene, complete sequence | 1,024 bp linear DNA | KJ372452.1 | 646280569 |\n",
    "| Endozoicomonas **ascidiicola** strain AVMART05 | 16S ribosomal RNA gene, partial sequence | 1,501 bp linear DNA | KT364257.1 | 1016200855 |\n",
    "| Endozoicomonas **sp.** isolate PM28062 | 16S ribosomal RNA gene, partial sequence | 1,408 bp linear DNA | KX780138.1 | 1226602311 |\n",
    "| Uncultured Endozoicomonas **sp.** | partial 16S rRNA gene, clone Dpd21_3_44 | 1,473 bp linear DNA | LN626318.1 | 966207698 |\n",
    "| Endozoicomonas **sp.** strain Acr-14 | partial 16S rRNA gene, isolate Sea coral | 1,452 bp linear DNA | LN875493.1 | 916534561 |\n",
    "| Endozoicomonas **sp.** Acr-12 | partial 16S rRNA gene, strain Acr-12, isolate Sea coral | 1,450 bp linear DNA | LN879492.1 | 928189784 |\n",
    "| Endozoicomonas **sp.** strain LZHN29 | 16S ribosomal RNA gene, partial sequence | 1,550 bp linear DNA | MH201322.1 | 1377517605 |\n",
    "| Endozoicomonas **sp.** Hp36 | 16S ribosomal RNA gene, partial sequence | 1,531 bp linear DNA | MK633876.1 | 1591471162 |\n",
    "| Endozoicomonas **sp.** strain XS200 | 16S ribosomal RNA gene, partial sequence | 562 bp linear DNA | OQ618154.1 | 2456913731 |\n",
    ":::"
   ]
  },
  {
   "cell_type": "markdown",
   "metadata": {},
   "source": [
    "### Pilot #1\n",
    "\n",
    "This was a run where I had one sequence missing (FJ347758.1) from the original study from {cite}`Pike_2013`.\n",
    "1. I downloaded the 16S sequences using the [accession ID](../../outputs/pilot_1/accession_id_list.txt).\n",
    "2. I concatenated the sequences (see below).\n",
    "3. I aligned the sequences using MUSCLE v5.1 {cite:p}`Edgar_2022`.\n",
    "\n",
    "    ```bash\n",
    "    muscle5.1 -align outputs/pilot_1/all_unaligned.fasta -output outputs/pilot_1/muscle/Endozoicomonas_sp.phy\n",
    "    ```\n",
    "4. I used modeltest-ng in RaxMLGUI {cite:p}`Edler2021, Darriba2019`. **TPM1uf+G4** was the best model.\n",
    "5. I then tree searched using raxmlHPC in RaxMLGUI {cite:p}`Edler2021, Kozlov2019`. However, it seems like I made a mistake and ran it with GTRGAMMAIX instead, using ML + thorough bootstrap.\n",
    "\n",
    "**This produced:**\n",
    "```{figure} ../../outputs/pilot_1/Ito_Kaede_PartB_screenshot_page-0001.jpg\n",
    "---\n",
    "name: pilot-1-raxml-tree\n",
    "---\n",
    "Tree searched using ML inference with RaxMLGUI {cite:p}`Edler2021, Kozlov2019`.\n",
    "```"
   ]
  },
  {
   "cell_type": "code",
   "execution_count": 9,
   "metadata": {},
   "outputs": [
    {
     "name": "stdout",
     "output_type": "stream",
     "text": [
      "Done writing unaligned fasta\n"
     ]
    },
    {
     "data": {
      "text/plain": [
       "[SeqRecord(seq=Seq('ATTGAACGCTGGCGGCAGGCCTAACACATGCAAGTCGAGCGGTAGCGGGAAGAG...GTG'), id='KC878324.1', name='KC878324.1', description='KC878324.1 Endozoicomonas atrinae strain WP70 16S ribosomal RNA gene, partial sequence', dbxrefs=[]),\n",
       " SeqRecord(seq=Seq('ATGCAGTCGAGCGGTGACAGAACTAGCTTGCTAGTTGCTGACGAGCGGCGGACG...AGG'), id='KJ372452.1', name='KJ372452.1', description='KJ372452.1 Endozoicomonas montiporae strain Ab112_MC 16S ribosomal RNA (16S) gene, complete sequence', dbxrefs=[]),\n",
       " SeqRecord(seq=Seq('AGAGTTTGATCCTGGCTCAGATTGAACGCTGGCGGCAGGCCTAACACATGCAAG...GTA'), id='KT364257.1', name='KT364257.1', description='KT364257.1 Endozoicomonas ascidiicola strain AVMART05 16S ribosomal RNA gene, partial sequence', dbxrefs=[]),\n",
       " SeqRecord(seq=Seq('TAACATTCCCAGCTTGCTGGGAGATGACGAGCGGCGGACGGGTGAGTAACACGT...GAT'), id='KX780138.1', name='KX780138.1', description='KX780138.1 Endozoicomonas sp. isolate PM28062 16S ribosomal RNA gene, partial sequence', dbxrefs=[]),\n",
       " SeqRecord(seq=Seq('TGGCTCAGATTGAACGCTGGCGGCAGGCCTAACACATGCAAGTCGAGCGGTAGC...GTG'), id='LN626318.1', name='LN626318.1', description='LN626318.1 Uncultured Endozoicomonas sp. partial 16S rRNA gene, clone Dpd21_3_44', dbxrefs=[]),\n",
       " SeqRecord(seq=Seq('GTCGAGCGGTAGCAGGAAGTGCTTGCACTTCGCTGACGAGCGGCGGACGGGTGC...TCG'), id='LN875493.1', name='LN875493.1', description='LN875493.1 Endozoicomonas sp. Acr-14 partial 16S rRNA gene, strain Acr-14, isolate Sea coral', dbxrefs=[]),\n",
       " SeqRecord(seq=Seq('GCAGTCGAGCGGTAGCAGGAAGTAGCTTGCACTTCGCTGACGAGCGGCGGACGG...GTG'), id='LN879492.1', name='LN879492.1', description='LN879492.1 Endozoicomonas sp. Acr-12 partial 16S rRNA gene, strain Acr-12, isolate Sea coral', dbxrefs=[]),\n",
       " SeqRecord(seq=Seq('TCTAGAGATTAGAGTTTGATCATGGCTCAGATTGAACGCTGGCGGCAGGCTTAA...TAA'), id='MH201322.1', name='MH201322.1', description='MH201322.1 Endozoicomonas sp. strain LZHN29 16S ribosomal RNA gene, partial sequence', dbxrefs=[]),\n",
       " SeqRecord(seq=Seq('AGAGTTTGATCATGGCTCAGATTGAACGCTGGCGGCAGGCCTAACACATGCAAG...CCT'), id='MK633876.1', name='MK633876.1', description='MK633876.1 Endozoicomonas sp. Hp36 16S ribosomal RNA gene, partial sequence', dbxrefs=[]),\n",
       " SeqRecord(seq=Seq('CACGTAGGAATCTGCCTGGTAGTGGGGGATAGCCCGGAGAAATCCGGATTAATA...GAG'), id='OQ618154.1', name='OQ618154.1', description='OQ618154.1 Endozoicomonas sp. strain XS200 16S ribosomal RNA gene, partial sequence', dbxrefs=[]),\n",
       " SeqRecord(seq=Seq('CTGGCTCAGATTGAACGCTGGCGGCAGGCCTAACACATGCAAGTCGAGCGGTAG...CGG'), id='AB196667.1', name='AB196667.1', description='AB196667.1 Endozoicimonas elysicola gene for 16S ribosomal RNA, partial sequence', dbxrefs=[]),\n",
       " SeqRecord(seq=Seq('ATTGAACGCTGGCGGCAGGCCTAACACATGCAAGTCGAGCGGTAACAGAACTAG...AAG'), id='AB695088.1', name='AB695088.1', description='AB695088.1 Endozoicomonas numazuensis gene for 16S rRNA, partial sequence', dbxrefs=[]),\n",
       " SeqRecord(seq=Seq('AGAGTTTTGGATCTGGCTCAGATTGAACGCTGGCGGCAGGCCTAACACATGCAA...GGC'), id='JX488684.2', name='JX488684.2', description='JX488684.2 Endozoicomonas euniceicola strain EF212 16S ribosomal RNA gene, partial sequence', dbxrefs=[]),\n",
       " SeqRecord(seq=Seq('AGAGTTTGATCCTGGCGCAGATTGAACGCTGGCGGCAGGCCTAACACATGCAAG...GTC'), id='JX488685.1', name='JX488685.1', description='JX488685.1 Endozoicomonas gorgoniicola strain PS125 16S ribosomal RNA gene, partial sequence', dbxrefs=[])]"
      ]
     },
     "execution_count": 9,
     "metadata": {},
     "output_type": "execute_result"
    }
   ],
   "source": [
    "write_unaligned_fasta(dir_paths, \"../../outputs/pilot_1/accession_id_list.txt\")"
   ]
  },
  {
   "cell_type": "markdown",
   "metadata": {},
   "source": [
    "### Pilot #2\n",
    "Then I did a model test in RaxMLGUI (v2.0.10) {cite:p}`Edler2021, Darriba2019` using the full list of sequences (including the one missing) which produced TrN (Tamura-Nei) as the best model.\n",
    "1. I downloaded the 16S sequences using the [accession ID](../../outputs/pilot_2/accession_id_list.txt).\n",
    "2. I concatenated the sequences (see below) (which included the sequences in the Endozoicomonas subtree ({numref}`pike-2013-tree`)).\n",
    "3. I aligned the sequences using MUSCLE v5.1 {cite:p}`Edgar_2022`.\n",
    "\n",
    "    ```bash\n",
    "    muscle5.1 -align outputs/pilot_2/all_unaligned.fasta -output outputs/pilot_2/muscle/16S_all_aligned.fasta\n",
    "    ```\n",
    "\n",
    "4. Inside MEGA I selected the following settings:\n",
    ":::{table} MEGA settings for basic analysis (with missing sequence)\n",
    "| Setting | Value |\n",
    "| --- | --- |\n",
    "| Scope | All taxa |\n",
    "| Statistical method | Maximum likelihood |\n",
    "| Test of phylogeny | Bootstrap method |\n",
    "| No. of bootstrap replicates | 700 |\n",
    "| Substitution type | Nucleotide |\n",
    "| Model/method | Tamura-Nei model |\n",
    "| Gaps/missing data treatment | Complete deletion |\n",
    "| ML Heuristic method | Nearest-Neighbor-Interchange (NNI) |\n",
    "| Initial tree for ML | Neighbor-joining |\n",
    ":::\n",
    "\n",
    "**This produced:**\n",
    "\n",
    "```{figure} ../../outputs/pilot_2/16s_ml_all_aligned.png\n",
    "The evolutionary history was inferred by using the Maximum Likelihood method and Tamura-Nei model {cite:p}`Tamura_1993`. The bootstrap consensus tree inferred from 500 replicates {cite:p}`Felsenstein_1985` is taken to represent the evolutionary history of the taxa analyzed. Branches corresponding to partitions reproduced in less than 50% bootstrap replicates are collapsed. The percentage of replicate trees in which the associated taxa clustered together in the bootstrap test 500 replicates are shown next to the branches {cite:p}`Felsenstein_1985`. Initial tree(s) for the heuristic search were obtained by applying the Neighbor-Joining method to a matrix of pairwise distances estimated using the Tamura-Nei model. This analysis involved 20 nucleotide sequences. Codon positions included were 1st+2nd+3rd+Noncoding. All positions containing gaps and missing data were eliminated (complete deletion option). There were a total of 545 positions in the final dataset. Evolutionary analyses were conducted in MEGA11 {cite:p}`Tamura_2021`\n",
    "```"
   ]
  },
  {
   "cell_type": "code",
   "execution_count": 10,
   "metadata": {},
   "outputs": [
    {
     "name": "stdout",
     "output_type": "stream",
     "text": [
      "Done writing unaligned fasta\n"
     ]
    },
    {
     "data": {
      "text/plain": [
       "[SeqRecord(seq=Seq('ATTGAACGCTGGCGGCAGGCCTAACACATGCAAGTCGAGCGGTAGCGGGAAGAG...GTG'), id='KC878324.1', name='KC878324.1', description='KC878324.1 Endozoicomonas atrinae strain WP70 16S ribosomal RNA gene, partial sequence', dbxrefs=[]),\n",
       " SeqRecord(seq=Seq('ATGCAGTCGAGCGGTGACAGAACTAGCTTGCTAGTTGCTGACGAGCGGCGGACG...AGG'), id='KJ372452.1', name='KJ372452.1', description='KJ372452.1 Endozoicomonas montiporae strain Ab112_MC 16S ribosomal RNA (16S) gene, complete sequence', dbxrefs=[]),\n",
       " SeqRecord(seq=Seq('AGAGTTTGATCCTGGCTCAGATTGAACGCTGGCGGCAGGCCTAACACATGCAAG...GTA'), id='KT364257.1', name='KT364257.1', description='KT364257.1 Endozoicomonas ascidiicola strain AVMART05 16S ribosomal RNA gene, partial sequence', dbxrefs=[]),\n",
       " SeqRecord(seq=Seq('TAACATTCCCAGCTTGCTGGGAGATGACGAGCGGCGGACGGGTGAGTAACACGT...GAT'), id='KX780138.1', name='KX780138.1', description='KX780138.1 Endozoicomonas sp. isolate PM28062 16S ribosomal RNA gene, partial sequence', dbxrefs=[]),\n",
       " SeqRecord(seq=Seq('TGGCTCAGATTGAACGCTGGCGGCAGGCCTAACACATGCAAGTCGAGCGGTAGC...GTG'), id='LN626318.1', name='LN626318.1', description='LN626318.1 Uncultured Endozoicomonas sp. partial 16S rRNA gene, clone Dpd21_3_44', dbxrefs=[]),\n",
       " SeqRecord(seq=Seq('GTCGAGCGGTAGCAGGAAGTGCTTGCACTTCGCTGACGAGCGGCGGACGGGTGC...TCG'), id='LN875493.1', name='LN875493.1', description='LN875493.1 Endozoicomonas sp. Acr-14 partial 16S rRNA gene, strain Acr-14, isolate Sea coral', dbxrefs=[]),\n",
       " SeqRecord(seq=Seq('GCAGTCGAGCGGTAGCAGGAAGTAGCTTGCACTTCGCTGACGAGCGGCGGACGG...GTG'), id='LN879492.1', name='LN879492.1', description='LN879492.1 Endozoicomonas sp. Acr-12 partial 16S rRNA gene, strain Acr-12, isolate Sea coral', dbxrefs=[]),\n",
       " SeqRecord(seq=Seq('TCTAGAGATTAGAGTTTGATCATGGCTCAGATTGAACGCTGGCGGCAGGCTTAA...TAA'), id='MH201322.1', name='MH201322.1', description='MH201322.1 Endozoicomonas sp. strain LZHN29 16S ribosomal RNA gene, partial sequence', dbxrefs=[]),\n",
       " SeqRecord(seq=Seq('AGAGTTTGATCATGGCTCAGATTGAACGCTGGCGGCAGGCCTAACACATGCAAG...CCT'), id='MK633876.1', name='MK633876.1', description='MK633876.1 Endozoicomonas sp. Hp36 16S ribosomal RNA gene, partial sequence', dbxrefs=[]),\n",
       " SeqRecord(seq=Seq('CACGTAGGAATCTGCCTGGTAGTGGGGGATAGCCCGGAGAAATCCGGATTAATA...GAG'), id='OQ618154.1', name='OQ618154.1', description='OQ618154.1 Endozoicomonas sp. strain XS200 16S ribosomal RNA gene, partial sequence', dbxrefs=[]),\n",
       " SeqRecord(seq=Seq('CTGGCTCAGATTGAACGCTGGCGGCAGGCCTAACACATGCAAGTCGAGCGGTAG...CGG'), id='AB196667.1', name='AB196667.1', description='AB196667.1 Endozoicimonas elysicola gene for 16S ribosomal RNA, partial sequence', dbxrefs=[]),\n",
       " SeqRecord(seq=Seq('ATTGAACGCTGGCGGCAGGCCTAACACATGCAAGTCGAGCGGTAACAGAACTAG...AAG'), id='AB695088.1', name='AB695088.1', description='AB695088.1 Endozoicomonas numazuensis gene for 16S rRNA, partial sequence', dbxrefs=[]),\n",
       " SeqRecord(seq=Seq('TGCAAGTCGAGCGGTAACAGAACTAGCTTGCTAGTTGCTGACGAGCGGCGGACG...AAG'), id='FJ347758.1', name='FJ347758.1', description='FJ347758.1 Endozoicomonas montiporae CL-33 16S ribosomal RNA gene, partial sequence', dbxrefs=[]),\n",
       " SeqRecord(seq=Seq('AGAGTTTTGGATCTGGCTCAGATTGAACGCTGGCGGCAGGCCTAACACATGCAA...GGC'), id='JX488684.2', name='JX488684.2', description='JX488684.2 Endozoicomonas euniceicola strain EF212 16S ribosomal RNA gene, partial sequence', dbxrefs=[]),\n",
       " SeqRecord(seq=Seq('AGAGTTTGATCCTGGCGCAGATTGAACGCTGGCGGCAGGCCTAACACATGCAAG...GTC'), id='JX488685.1', name='JX488685.1', description='JX488685.1 Endozoicomonas gorgoniicola strain PS125 16S ribosomal RNA gene, partial sequence', dbxrefs=[])]"
      ]
     },
     "execution_count": 10,
     "metadata": {},
     "output_type": "execute_result"
    }
   ],
   "source": [
    "write_unaligned_fasta(dir_paths, \"../../outputs/pilot_2/accession_id_list.txt\")"
   ]
  }
 ],
 "metadata": {
  "kernelspec": {
   "display_name": ".venv",
   "language": "python",
   "name": "python3"
  },
  "language_info": {
   "codemirror_mode": {
    "name": "ipython",
    "version": 3
   },
   "file_extension": ".py",
   "mimetype": "text/x-python",
   "name": "python",
   "nbconvert_exporter": "python",
   "pygments_lexer": "ipython3",
   "version": "3.11.4"
  }
 },
 "nbformat": 4,
 "nbformat_minor": 2
}
