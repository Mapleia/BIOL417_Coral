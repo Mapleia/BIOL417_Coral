{
 "cells": [
  {
   "cell_type": "markdown",
   "metadata": {},
   "source": [
    "# Redo Alignment file"
   ]
  },
  {
   "cell_type": "code",
   "execution_count": 10,
   "metadata": {},
   "outputs": [],
   "source": [
    "from Bio.SeqIO import parse, write\n",
    "import os\n",
    "from Bio.SeqRecord import SeqRecord\n",
    "import pandas as pd\n",
    "\n",
    "dir_path = \"../../outputs/pilot_2\""
   ]
  },
  {
   "cell_type": "code",
   "execution_count": 8,
   "metadata": {},
   "outputs": [],
   "source": [
    "def load_fasta(path):\n",
    "    whole_path = os.path.realpath(os.path.join(dir_path, path))\n",
    "    return list(parse(whole_path, \"fasta\"))"
   ]
  },
  {
   "cell_type": "code",
   "execution_count": 13,
   "metadata": {},
   "outputs": [],
   "source": [
    "def unique(todo_list: list[SeqRecord]):\n",
    "    # intilize a null list\n",
    "    keep_list: list[SeqRecord] = []\n",
    "    visited_list = []\n",
    "\n",
    "    # traverse for all elements\n",
    "    for x in todo_list:\n",
    "        if x.id in visited_list:\n",
    "          continue\n",
    "        else:\n",
    "          visited_list.append(x.id)\n",
    "          keep_list.append(x)\n",
    "\n",
    "    return keep_list, visited_list"
   ]
  },
  {
   "cell_type": "code",
   "execution_count": 16,
   "metadata": {},
   "outputs": [
    {
     "name": "stdout",
     "output_type": "stream",
     "text": [
      "15\n",
      "15\n",
      "['KC878324.1', 'KJ372452.1', 'KT364257.1', 'KX780138.1', 'LN626318.1', 'LN875493.1', 'LN879492.1', 'MH201322.1', 'MK633876.1', 'OQ618154.1', 'AB196667.1', 'AB695088.1', 'JX488685.1', 'JX488684.2', 'FJ347758.1']\n"
     ]
    },
    {
     "data": {
      "text/plain": [
       "15"
      ]
     },
     "execution_count": 16,
     "metadata": {},
     "output_type": "execute_result"
    }
   ],
   "source": [
    "records = load_fasta(\"16S_all.fasta\")\n",
    "print(len(records))\n",
    "records, visited_list = unique(records)\n",
    "print(len(records))\n",
    "print(visited_list)\n",
    "\n",
    "new_list_records = []\n",
    "for record in records:\n",
    "    desc = str(record.description).split(\"16S\")[0]\n",
    "    # trim trailing spaces\n",
    "    desc = desc.strip()\n",
    "    # replace spaces with _\n",
    "    desc = desc.replace(\" \", \"_\")\n",
    "    record.description = desc\n",
    "    new_list_records.append(record)\n",
    "write(new_list_records, os.path.join(dir_path, \"muscle\", \"16S_all_unique.fasta\"), \"fasta\")"
   ]
  }
 ],
 "metadata": {
  "kernelspec": {
   "display_name": ".venv",
   "language": "python",
   "name": "python3"
  },
  "language_info": {
   "codemirror_mode": {
    "name": "ipython",
    "version": 3
   },
   "file_extension": ".py",
   "mimetype": "text/x-python",
   "name": "python",
   "nbconvert_exporter": "python",
   "pygments_lexer": "ipython3",
   "version": "3.11.4"
  }
 },
 "nbformat": 4,
 "nbformat_minor": 2
}
