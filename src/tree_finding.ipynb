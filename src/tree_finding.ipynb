{
 "cells": [
  {
   "cell_type": "markdown",
   "metadata": {},
   "source": [
    "# Finding the tree\n",
    "\n",
    "As IQ-tree is more friendly for CLI and is faster in bootstrapping, it is selected over RAxML. The following command is used to find the tree.\n",
    "\n",
    "We will select the model based on BIC scoring, as explained by {cite:ts}`StackExchange_57149` it performs better for larger models. Since we have 117 different sequences, I think it's a fair assumption this can be considered a model on the larger side.\n",
    "\n",
    "However, since we have a Dockerfile instead for iq-tree, we will call upon that instead."
   ]
  },
  {
   "cell_type": "code",
   "execution_count": 1,
   "metadata": {},
   "outputs": [
    {
     "name": "stdout",
     "output_type": "stream",
     "text": []
    }
   ],
   "source": [
    "$vol = \"${PWD}\\muscle_out:/usr/local/bin/biol417_coral\"\n",
    "echo $vol"
   ]
  },
  {
   "cell_type": "code",
   "execution_count": 2,
   "metadata": {},
   "outputs": [
    {
     "name": "stdout",
     "output_type": "stream",
     "text": [
      "E:\\Kaede\\Documents\\GitHub\\BIOL417_CORAL\\src\\muscle_out:/usr/local/bin/biol417_coral\n",
      ". {\n",
      ">> docker run --name \"iqtree\" --rm `\n",
      ">>   -v $vol `\n",
      ">>   \"evolbioinfo/iqtree:v2.2.5\" `\n",
      ">>   -s \"/usr/local/bin/biol417_coral/muscle_phylip_sequential.phys\" \"-m\" \"TEST\" \"-B\" 1000 \"-merit\" \"BIC\" \"-seed\" 1234\n",
      ">> }\n",
      ">> \n"
     ]
    }
   ],
   "source": [
    "docker run --name \"iqtree\" --rm `\n",
    "  -v $vol `\n",
    "  \"evolbioinfo/iqtree:v2.2.5\" `\n",
    "  -s \"/usr/local/bin/biol417_coral/muscle_phylip_sequential.phys\" \"-m\" \"TPM1uf+G4\" \"-seed\" 1234 \"-nt\" \"AUTO\""
   ]
  }
 ],
 "metadata": {
  "kernelspec": {
   "display_name": "PowerShell",
   "language": "powershell",
   "name": "powershell"
  },
  "language_info": {
   "codemirror_mode": "shell",
   "file_extension": ".ps1",
   "mimetype": "text/x-sh",
   "name": "powershell"
  }
 },
 "nbformat": 4,
 "nbformat_minor": 2
}
