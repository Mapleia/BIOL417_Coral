{
 "cells": [
  {
   "cell_type": "markdown",
   "metadata": {},
   "source": [
    "# Align and Download"
   ]
  },
  {
   "cell_type": "markdown",
   "metadata": {},
   "source": [
    "We are using the package biopython to download our SRA from NCBI. We will be using the SRA toolkit to convert the SRA files to fastq files. We will then use bowtie2 to align the fastq files to the reference genome. We will then use samtools to convert the SAM files to BAM files and sort the BAM files. \n",
    "\n",
    "> We will then use bedtools to convert the BAM files to BED files. We wil"
   ]
  },
  {
   "cell_type": "markdown",
   "metadata": {},
   "source": [
    "The guide on downloading from NCBI is from [this guide](https://notebook.community/widdowquinn/Notebooks-Bioinformatics/Biopython_NCBI_Entrez_downloads)."
   ]
  },
  {
   "cell_type": "code",
   "execution_count": null,
   "metadata": {},
   "outputs": [],
   "source": [
    "from Bio import Entrez, SeqIO\n",
    "# from Bio.Align.Applications import ClustalwCommandline\n",
    "import os"
   ]
  },
  {
   "cell_type": "code",
   "execution_count": null,
   "metadata": {},
   "outputs": [],
   "source": [
    "# Create a new directory (if needed) for output/downloads\n",
    "os.makedirs(\"ncbi_downloads\", exist_ok=True)"
   ]
  },
  {
   "cell_type": "code",
   "execution_count": null,
   "metadata": {},
   "outputs": [],
   "source": [
    "Entrez.email = \"kaedeito@student.ubc.ca\"\n",
    "# This line sets the name of the tool that is making the queries\n",
    "Entrez.tool = \"alignment.ipynb\""
   ]
  },
  {
   "cell_type": "markdown",
   "metadata": {},
   "source": [
    "## Sample search to download from NCBI\n",
    "Here is an example using the generic search term of \"Endozoicomonas\" and \"coral\" in NCBI's Genbank nucleotide database.\n",
    "\n",
    "The `Entrez.esearch(...)` function is documented [here](https://www.ncbi.nlm.nih.gov/books/NBK25499/#chapter4.ESearch)."
   ]
  },
  {
   "cell_type": "code",
   "execution_count": null,
   "metadata": {},
   "outputs": [],
   "source": [
    "\n",
    "\n",
    "term = \"Endozoicomonas[Organism] AND coral[All Fields] AND biomol_genomic[PROP]\"\n",
    "handle = Entrez.esearch(db=\"nucleotide\",\n",
    "  term=term,\n",
    "  retmax=10,\n",
    "  idtype=\"acc\",\n",
    ")\n",
    "\n",
    "# This line converts the returned information from NCBI into a form we\n",
    "# can use, as before.\n",
    "record = Entrez.read(handle)\n",
    "print(record['IdList'])\n"
   ]
  },
  {
   "cell_type": "markdown",
   "metadata": {},
   "source": [
    "## Download sequences for our organism list\n",
    "From a file called \"organism_list.txt\", read the list of organisms to search with.\n",
    "Add the search term \"coral\" to the end of each organism name, and limit to 10 results per taxon."
   ]
  },
  {
   "cell_type": "code",
   "execution_count": null,
   "metadata": {},
   "outputs": [],
   "source": [
    "\n",
    "list_orgs = open(\"ncbi_downloads/organism_list.txt\").read().splitlines()\n",
    "\n",
    "list_of_accession_id = []\n",
    "\n",
    "min_seq_length = 1200\n",
    "max_seq_length = 10000\n",
    "\n",
    "length_search = f\"({min_seq_length}[SLEN] : {max_seq_length}[SLEN])\"\n",
    "\n",
    "for org in list_orgs:\n",
    "  term = f\"(\\\"{org}\\\"[Organism] OR {org}[All Fields]) AND coral[All Fields] AND {length_search} AND biomol_genomic[PROP]\"\n",
    "  handle = Entrez.esearch(db=\"nucleotide\",\n",
    "    term=term,\n",
    "    retmax=10,\n",
    "    idtype=\"acc\",\n",
    "  )\n",
    "  record = Entrez.read(handle)\n",
    "  list_of_accession_id.append(record['IdList'])\n"
   ]
  },
  {
   "cell_type": "markdown",
   "metadata": {},
   "source": [
    "A class to hold the search results, and a function to print the results to a fasta file."
   ]
  },
  {
   "cell_type": "code",
   "execution_count": null,
   "metadata": {},
   "outputs": [],
   "source": [
    "from dataclasses import dataclass\n",
    "\n",
    "@dataclass\n",
    "class OrganismAccession:\n",
    "  ids: list[str]\n",
    "  organism: str\n",
    "  handle: str\n",
    "  folder: str\n",
    "\n",
    "  def __init__(self, ids, organism):\n",
    "    self.ids = ids\n",
    "    self.organism = organism\n",
    "    self.folder = f\"ncbi_downloads\\\\{self.organism}\"\n",
    "    os.makedirs(self.folder, exist_ok=True)\n",
    "    handle = Entrez.efetch(db=\"nucleotide\", id=ids, rettype=\"fasta\", retmode=\"text\")\n",
    "\n",
    "  def download_save(self):\n",
    "    with open(f\"{self.folder}\\\\nucleotide.fasta\", \"w\") as out_handle:\n",
    "      out_handle.write(self.handle.read())\n",
    "      print(f\"all\\\\{self.organism} Saved\")"
   ]
  },
  {
   "cell_type": "code",
   "execution_count": null,
   "metadata": {},
   "outputs": [],
   "source": [
    "len_org = len(list_orgs)\n",
    "len_results = len(list_of_accession_id)\n",
    "if len_org != len_results:\n",
    "  throw Exception(\"Length of organism list and results list are not the same\")\n",
    "\n",
    "for i in range(len_org):\n",
    "  org = list_orgs[i]\n",
    "  ids = list_of_accession_id[i]\n",
    "  organism_accession = OrganismAccession(ids, org)\n",
    "  organism_accession.download_save()\n",
    "  print(f\"Saved {org}\")"
   ]
  }
 ],
 "metadata": {
  "kernelspec": {
   "display_name": ".venv",
   "language": "python",
   "name": "python3"
  },
  "language_info": {
   "codemirror_mode": {
    "name": "ipython",
    "version": 3
   },
   "file_extension": ".py",
   "mimetype": "text/x-python",
   "name": "python",
   "nbconvert_exporter": "python",
   "pygments_lexer": "ipython3",
   "version": "3.11.4"
  }
 },
 "nbformat": 4,
 "nbformat_minor": 2
}
