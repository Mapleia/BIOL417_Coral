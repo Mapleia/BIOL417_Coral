{
 "cells": [
  {
   "cell_type": "markdown",
   "metadata": {},
   "source": [
    "# Align and Download"
   ]
  },
  {
   "cell_type": "markdown",
   "metadata": {},
   "source": [
    "We are using the package biopython to download our SRA from NCBI. We will be using the SRA toolkit to convert the SRA files to fastq files. We will then use bowtie2 to align the fastq files to the reference genome. We will then use samtools to convert the SAM files to BAM files and sort the BAM files. \n",
    "\n",
    "> We will then use bedtools to convert the BAM files to BED files. We wil"
   ]
  },
  {
   "cell_type": "markdown",
   "metadata": {},
   "source": [
    "How to download from NCBI from [this guide](https://notebook.community/widdowquinn/Notebooks-Bioinformatics/Biopython_NCBI_Entrez_downloads)."
   ]
  },
  {
   "cell_type": "code",
   "execution_count": 4,
   "metadata": {},
   "outputs": [],
   "source": [
    "from Bio import Entrez, SeqIO\n",
    "# from Bio.Align.Applications import ClustalwCommandline\n",
    "import os"
   ]
  },
  {
   "cell_type": "code",
   "execution_count": 5,
   "metadata": {},
   "outputs": [],
   "source": [
    "# Create a new directory (if needed) for output/downloads\n",
    "outdir = \"ncbi_downloads\"\n",
    "os.makedirs(outdir, exist_ok=True)"
   ]
  },
  {
   "cell_type": "code",
   "execution_count": 6,
   "metadata": {},
   "outputs": [],
   "source": [
    "Entrez.email = \"kaedeito@student.ubc.ca\"\n",
    "# This line sets the name of the tool that is making the queries\n",
    "Entrez.tool = \"alignment.ipynb\""
   ]
  },
  {
   "cell_type": "markdown",
   "metadata": {},
   "source": [
    "## Download reference genome"
   ]
  },
  {
   "cell_type": "code",
   "execution_count": null,
   "metadata": {},
   "outputs": [],
   "source": [
    "# The line below uses the Entrez.einfo() function to\n",
    "# ask NCBI what databases are available. The result is\n",
    "# 'stored' in a variable called 'handle'\n",
    "handle = Entrez.einfo()\n",
    "\n",
    "# In the line below, the response from NCBI is read\n",
    "# into a record, that organises NCBI's response into\n",
    "# something you can work with.\n",
    "record = Entrez.read(handle)\n",
    "\n",
    "# The line below carries out a search of the `assembly` database at NCBI,\n",
    "# using the phrase `Ralstonia solanacearum` as the search query,\n",
    "# and asks NCBI to return up to the first 100 results\n",
    "handle = Entrez.esearch(db=\"assembly\", term=\"Ralstonia solanacearum\", retmax=100)\n",
    "\n",
    "Entrez.elink(db=\"assembly\")\n",
    "# This line converts the returned information from NCBI into a form we\n",
    "# can use, as before.\n",
    "record = Entrez.read(handle)"
   ]
  },
  {
   "cell_type": "markdown",
   "metadata": {},
   "source": [
    "# Download our list of files"
   ]
  },
  {
   "cell_type": "code",
   "execution_count": 19,
   "metadata": {},
   "outputs": [],
   "source": [
    "def download_save(outdir, list_genomes: list[str]):\n",
    "  os.makedirs(f\"ncbi_downloads\\\\{outdir}\", exist_ok=True)\n",
    "  records = []\n",
    "  for accession_id in list_genomes:\n",
    "    handle = Entrez.efetch(db=\"nucleotide\", id=accession_id, rettype=\"fasta\", retmode=\"text\")\n",
    "    records.append(handle)\n",
    "    with open(f\"ncbi_downloads\\\\{outdir}\\\\{accession_id}.fasta\", \"w\") as out_handle:\n",
    "      out_handle.write(handle.read())\n",
    "      print(f\"{outdir}\\\\{accession_id} Saved\")\n",
    "  return records"
   ]
  },
  {
   "cell_type": "code",
   "execution_count": 15,
   "metadata": {},
   "outputs": [
    {
     "name": "stdout",
     "output_type": "stream",
     "text": [
      "Saved\n",
      "Saved\n",
      "Saved\n",
      "Saved\n",
      "Saved\n",
      "Saved\n",
      "Saved\n"
     ]
    }
   ],
   "source": [
    "# list_genomes = [\"GCF_001583435.1\" \"GCF_027366395.1\", \"GCF_023716865.1\", \"GCF_023822025.1\", \"GCF_032883915.1\"]\n",
    "list_genomes_16S = open(\"ncbi_downloads/list_16S.txt\").read().splitlines()\n",
    "records_16S = download_save(\"list_16S\", list_genomes)"
   ]
  },
  {
   "cell_type": "code",
   "execution_count": 21,
   "metadata": {},
   "outputs": [
    {
     "name": "stdout",
     "output_type": "stream",
     "text": [
      "list_16S_sp\\LN879492.1 Saved\n",
      "list_16S_sp\\KX780138.1 Saved\n",
      "list_16S_sp\\LN875493.1 Saved\n",
      "list_16S_sp\\MK633876.1 Saved\n",
      "list_16S_sp\\MH201322.1 Saved\n",
      "list_16S_sp\\LN626318.1 Saved\n",
      "list_16S_sp\\OQ618154.1 Saved\n"
     ]
    }
   ],
   "source": [
    "list_genomes_16S_sp = open(\"ncbi_downloads/list_16S_sp.txt\").read().splitlines()\n",
    "records_16S_sp = download_save(\"list_16S_sp\", list_genomes_16S_sp)"
   ]
  }
 ],
 "metadata": {
  "kernelspec": {
   "display_name": ".venv",
   "language": "python",
   "name": "python3"
  },
  "language_info": {
   "codemirror_mode": {
    "name": "ipython",
    "version": 3
   },
   "file_extension": ".py",
   "mimetype": "text/x-python",
   "name": "python",
   "nbconvert_exporter": "python",
   "pygments_lexer": "ipython3",
   "version": "3.11.4"
  }
 },
 "nbformat": 4,
 "nbformat_minor": 2
}
