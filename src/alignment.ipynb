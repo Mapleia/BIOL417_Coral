{
 "cells": [
  {
   "cell_type": "markdown",
   "metadata": {},
   "source": [
    "# Align sequences using MUSCLE\n",
    "\n",
    "Let's import the SeqIO module to parse fasta files."
   ]
  },
  {
   "cell_type": "code",
   "execution_count": 1,
   "metadata": {},
   "outputs": [],
   "source": [
    "from Bio import SeqIO\n",
    "from Bio.SeqRecord import SeqRecord\n",
    "import os"
   ]
  },
  {
   "cell_type": "markdown",
   "metadata": {},
   "source": [
    "Let's check that there are directories for the input."
   ]
  },
  {
   "cell_type": "code",
   "execution_count": 2,
   "metadata": {},
   "outputs": [],
   "source": [
    "out_amount = os.listdir(\"ncbi_downloads\")\n",
    "\n",
    "if len(out_amount) <= 1:\n",
    "    raise \"No fasta files.\"\n",
    "\n",
    "# Get the list of organisms /taxa\n",
    "list_orgs = open(\"ncbi_downloads/organism_list.txt\").read().splitlines()"
   ]
  },
  {
   "cell_type": "code",
   "execution_count": 3,
   "metadata": {},
   "outputs": [],
   "source": [
    "def parse_fasta_files(list_orgs: list[str]):\n",
    "  \"\"\"A function that takes a list of subdirectory names and returns a list of SeqRecords.\"\"\"\n",
    "\n",
    "  fasta_records: list[SeqRecord] = []\n",
    "  for org in list_orgs:\n",
    "    path = f\"ncbi_downloads/{org}/nucleotide.fasta\"\n",
    "    if not os.path.exists(path):\n",
    "      raise \"Missing fasta file for \" + org\n",
    "    else:\n",
    "      file = open(path)\n",
    "      fasta_record = list(SeqIO.parse(file, \"fasta\"))\n",
    "      fasta_records = fasta_records + fasta_record\n",
    "  return fasta_records\n",
    "\n"
   ]
  },
  {
   "cell_type": "code",
   "execution_count": 4,
   "metadata": {},
   "outputs": [
    {
     "data": {
      "text/plain": [
       "117"
      ]
     },
     "execution_count": 4,
     "metadata": {},
     "output_type": "execute_result"
    }
   ],
   "source": [
    "fasta_records = parse_fasta_files(list_orgs)\n",
    "\n",
    "accession_ids: list[str] = []\n",
    "duplicates = []\n",
    "\n",
    "for idx, fasta in enumerate(fasta_records):\n",
    "  if fasta.id in accession_ids:\n",
    "    duplicates.append(idx)\n",
    "\n",
    "  accession_ids.append(fasta.id)\n",
    "\n",
    "for idx in sorted(duplicates, reverse=True):\n",
    "  del fasta_records[idx]\n",
    "\n",
    "SeqIO.write(fasta_records, \"all_sequences.fasta\", \"fasta\")"
   ]
  },
  {
   "cell_type": "markdown",
   "metadata": {},
   "source": [
    "Run the muscle command.\n",
    "```.ps1\n",
    "muscle -align ./src/all_sequences.fasta -output ./src/all_sequences_aligned.phy\n",
    "```\n",
    "\n",
    "For me personally, I submitted it to an online server by {cite:ts}`Madeira2022`.\n",
    "\n",
    "> Status of job: [here](https://wwwdev.ebi.ac.uk/Tools/jdispatcher/msa/muscle/summary?jobId=muscle-E20231103-041923-0439-15952161-p1m)"
   ]
  }
 ],
 "metadata": {
  "kernelspec": {
   "display_name": ".venv",
   "language": "python",
   "name": "python3"
  },
  "language_info": {
   "codemirror_mode": {
    "name": "ipython",
    "version": 3
   },
   "file_extension": ".py",
   "mimetype": "text/x-python",
   "name": "python",
   "nbconvert_exporter": "python",
   "pygments_lexer": "ipython3",
   "version": "3.11.4"
  }
 },
 "nbformat": 4,
 "nbformat_minor": 2
}
