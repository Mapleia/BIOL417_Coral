{
 "cells": [
  {
   "cell_type": "code",
   "execution_count": 1,
   "metadata": {},
   "outputs": [],
   "source": [
    "from Bio import SeqIO\n",
    "from Bio.SeqRecord import SeqRecord\n",
    "from Bio.Seq import UndefinedSequenceError\n",
    "\n",
    "import os\n",
    "import logging\n",
    "\n",
    "from pandas import notna, read_csv\n",
    "\n",
    "logging.basicConfig(level=logging.DEBUG)"
   ]
  },
  {
   "cell_type": "code",
   "execution_count": 8,
   "metadata": {},
   "outputs": [],
   "source": [
    "from Bio import Entrez\n",
    "Entrez.email = \"kaedeito@student.ubc.ca\"\n",
    "# This line sets the name of the tool that is making the queries\n",
    "Entrez.tool = \"download_other_taxa.ipynb\"\n",
    "\n",
    "SEARCH_NEW = False\n",
    "GRANULARITY = 5\n",
    "logger = logging.getLogger(\"download_16s_other_taxa\")\n",
    "\n",
    "dir_path = os.path.realpath(\"..\\\\..\\\\datasets\\\\full_analysis\")\n"
   ]
  },
  {
   "cell_type": "code",
   "execution_count": 18,
   "metadata": {},
   "outputs": [],
   "source": [
    "# list files in dir_path\n",
    "# load files that were downloaded from a assembled genome\n",
    "def list_files():\n",
    "  fna_path = os.path.join(dir_path, \"other_taxa_16S\")\n",
    "  print(fna_path)\n",
    "  list_other = os.listdir(fna_path)\n",
    "  # filter out files that do not start with \"txid\"\n",
    "  list_other = [f for f in list_other if f.startswith(\"txid\")]\n",
    "  return list_other"
   ]
  },
  {
   "cell_type": "code",
   "execution_count": 27,
   "metadata": {},
   "outputs": [],
   "source": [
    "# load the list of files\n",
    "def load_files():\n",
    "  list_other = list_files()\n",
    "  results: list[SeqRecord] = []\n",
    "  for f in list_other:\n",
    "    logger.debug(f)\n",
    "    fna_path = os.path.join(dir_path, \"other_taxa_16S\")\n",
    "    record = list(SeqIO.parse(os.path.join(fna_path, f), \"fasta\"))\n",
    "    logger.debug(len(record))\n",
    "    results.extend(record)\n",
    "  return results\n"
   ]
  },
  {
   "cell_type": "code",
   "execution_count": 28,
   "metadata": {},
   "outputs": [
    {
     "name": "stderr",
     "output_type": "stream",
     "text": [
      "DEBUG:download_16s_other_taxa:txid1541440.fna\n",
      "DEBUG:download_16s_other_taxa:1\n",
      "DEBUG:download_16s_other_taxa:txid1960125.fna\n",
      "DEBUG:download_16s_other_taxa:1\n",
      "DEBUG:download_16s_other_taxa:txid2172824.fna\n",
      "DEBUG:download_16s_other_taxa:1\n",
      "DEBUG:download_16s_other_taxa:txid2304602.fna\n",
      "DEBUG:download_16s_other_taxa:1\n",
      "DEBUG:download_16s_other_taxa:txid2592383.fna\n",
      "DEBUG:download_16s_other_taxa:1\n",
      "DEBUG:download_16s_other_taxa:txid517724.fna\n",
      "DEBUG:download_16s_other_taxa:1\n"
     ]
    },
    {
     "name": "stdout",
     "output_type": "stream",
     "text": [
      "E:\\Kaede\\Documents\\GitHub\\BIOL417_CORAL\\datasets\\full_analysis\\other_taxa_16S\n"
     ]
    }
   ],
   "source": [
    "gene_records = load_files()"
   ]
  },
  {
   "cell_type": "code",
   "execution_count": 3,
   "metadata": {},
   "outputs": [],
   "source": [
    "def save_file(file_name, records, rec_type):\n",
    "  \"\"\"\n",
    "  Save the records to the file.\n",
    "\n",
    "  `file_name`: The name of the file to save to.\n",
    "\n",
    "  `records`: The records to save.\n",
    "\n",
    "  `rec_type`: The type of record to save.\n",
    "  \"\"\"\n",
    "  file_path = os.path.join(dir_path, file_name)\n",
    "  with open(file_path, \"w\") as out_handle:\n",
    "      try:\n",
    "        count = SeqIO.write(records, out_handle, rec_type)\n",
    "        logger.debug(f\"{rec_type} {count} Saved\")\n",
    "      except UndefinedSequenceError as e_seq:\n",
    "        logger.error(e_seq)\n",
    "        logger.error(f\"Failed to write {rec_type} to file {file_name}\")\n",
    "      except Exception as e:\n",
    "        logger.error(e)\n",
    "        logger.error(f\"Failed to write {rec_type} to file {file_name}\")"
   ]
  },
  {
   "cell_type": "code",
   "execution_count": 4,
   "metadata": {},
   "outputs": [],
   "source": [
    "def find_records(list_accession: list[str]):\n",
    "  handle = Entrez.efetch(db=\"nucleotide\", id=list_accession, rettype=\"gb\")\n",
    "  records: list[SeqRecord] = list(SeqIO.parse(handle, \"gb\"))\n",
    "  return len(records), records"
   ]
  },
  {
   "cell_type": "code",
   "execution_count": 29,
   "metadata": {},
   "outputs": [
    {
     "name": "stderr",
     "output_type": "stream",
     "text": [
      "DEBUG:download_16s_other_taxa:fasta 7 Saved\n",
      "DEBUG:download_16s_other_taxa:fasta 13 Saved\n"
     ]
    }
   ],
   "source": [
    "# load other taxa data (.csv)\n",
    "other_taxa = read_csv(os.path.join(dir_path, \"other_taxa.csv\"))\n",
    "\n",
    "# load accession numbers\n",
    "other_taxa_accession = other_taxa.loc[notna(other_taxa[\"accession_id\"]), \"accession_id\"].to_list()\n",
    "\n",
    "rec_length, records = find_records(other_taxa_accession)\n",
    "\n",
    "save_file(\"other_taxa_16S\\\\16S_from_accession.fasta\", records, \"fasta\")\n",
    "\n",
    "# save everything together (records and gene_records)\n",
    "all_records = records + gene_records\n",
    "save_file(\"other_taxa_16S\\\\16S_other_taxa_all.fasta\", all_records, \"fasta\")"
   ]
  }
 ],
 "metadata": {
  "kernelspec": {
   "display_name": ".venv",
   "language": "python",
   "name": "python3"
  },
  "language_info": {
   "codemirror_mode": {
    "name": "ipython",
    "version": 3
   },
   "file_extension": ".py",
   "mimetype": "text/x-python",
   "name": "python",
   "nbconvert_exporter": "python",
   "pygments_lexer": "ipython3",
   "version": "3.11.4"
  }
 },
 "nbformat": 4,
 "nbformat_minor": 2
}
