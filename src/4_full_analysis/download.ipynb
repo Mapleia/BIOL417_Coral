{
 "cells": [
  {
   "cell_type": "markdown",
   "metadata": {},
   "source": [
    "# Download: 16S rRNA sequences\n",
    "\n",
    "Since 16S shows more promising results of identifying phylogeny of bacterial taxa, I will download a new set, but specifically look at entries under \"popset\" first. If there aren't enough sequences, I will expand the scope to include more sequences."
   ]
  },
  {
   "cell_type": "markdown",
   "metadata": {},
   "source": [
    "## Setup the environment\n",
    "\n",
    "We will utilize the package [`BioPython`](https://biopython.org/wiki/Documentation) {cite}`Cock_2009` to interface with sequencial data hosted on NCBI. We will also use `pandas` {cite}`pandasdevelopmentteam2023, McKinney2010` to store metadata in a dataframe."
   ]
  },
  {
   "cell_type": "code",
   "execution_count": 1,
   "metadata": {},
   "outputs": [],
   "source": [
    "from Bio import Entrez, SeqIO\n",
    "from Bio.SeqFeature import SeqFeature, Reference\n",
    "from Bio.SeqRecord import SeqRecord\n",
    "import os\n",
    "import logging\n",
    "from Bio.Entrez.Parser import DictionaryElement\n",
    "from pandas import DataFrame, notna\n",
    "from Bio.Entrez import HTTPError\n",
    "import numpy as np\n",
    "from pandas import merge\n",
    "from Bio.Seq import UndefinedSequenceError\n",
    "import re\n",
    "\n",
    "\n",
    "logging.basicConfig(level=logging.INFO)"
   ]
  },
  {
   "cell_type": "code",
   "execution_count": 2,
   "metadata": {},
   "outputs": [],
   "source": [
    "Entrez.email = \"kaedeito@student.ubc.ca\"\n",
    "# This line sets the name of the tool that is making the queries\n",
    "Entrez.tool = \"download_16s.ipynb\"\n",
    "\n",
    "logger = logging.getLogger(\"download_16s\")"
   ]
  },
  {
   "cell_type": "markdown",
   "metadata": {},
   "source": [
    "Create a folder to save our fasta and genbank file."
   ]
  },
  {
   "cell_type": "code",
   "execution_count": 3,
   "metadata": {},
   "outputs": [],
   "source": [
    "dir_path = os.path.realpath(\"..\\\\..\\\\datasets\\\\full_analysis\")\n",
    "os.makedirs(dir_path, exist_ok=True)"
   ]
  },
  {
   "cell_type": "markdown",
   "metadata": {},
   "source": [
    "## Clean and wrangle tables\n",
    "\n",
    "We need to clean the data to make it easier to work with.\n",
    "We need to load the metadata into a tabular format to make it easier to find problems, or to find interesting patterns."
   ]
  },
  {
   "cell_type": "code",
   "execution_count": 11,
   "metadata": {},
   "outputs": [],
   "source": [
    "def clean_table(df: DataFrame, granularity:int):\n",
    "  \"\"\"\n",
    "  Clean the dataframe by removing rows and cleaning string formatting.\n",
    "\n",
    "  :param `df`: The dataframe to clean.\n",
    "  :param `granularity`: The number of characters to group the ids by.\n",
    "  \"\"\"\n",
    "  feat_df = df.copy()\n",
    "  logger.debug(feat_df.columns)\n",
    "\n",
    "  # Split the country column into two columns\n",
    "  feat_df[['country','iso_source2']] = feat_df['country'].str.split(':',expand=True)\n",
    "  # Trim whitespace from the isolation_source column\n",
    "  feat_df['iso_source2'] = feat_df['iso_source2'].map(lambda x: x.strip() if isinstance(x, str) else x)\n",
    "\n",
    "  # Group the ids by the first n characters\n",
    "  feat_df['group'] = feat_df['id'].str[:granularity]\n",
    "\n",
    "  contains_coral = feat_df['isolation_source'].str.contains('coral')\n",
    "  contains_sponge = feat_df['isolation_source'].str.contains('sponge')\n",
    "  feat_df.loc[(contains_coral | contains_sponge) & (feat_df['host'].isnull()), 'host'] = feat_df['isolation_source']\n",
    "  feat_df.loc[(contains_coral | contains_sponge), 'isolation_source'] = np.nan\n",
    "\n",
    "  # Fill the isolation_source column with the iso_source2 column if it is null\n",
    "  feat_df['isolation_source'] = feat_df['isolation_source'].fillna(feat_df['iso_source2'])\n",
    "\n",
    "  feat_df.loc[feat_df['group'] == 'KC668', 'country'] = 'Saudi Arabia'\n",
    "  feat_df.loc[feat_df['group'] == 'KC668', 'isolation_source'] = 'Southern Red Sea'\n",
    "\n",
    "  # Clean the table by removing the rows that do not contain Endozoicomonas\n",
    "  feat_df = feat_df[notna(feat_df['organism']) & (feat_df['organism'].astype(str).str.contains('Endozoicomonas') | feat_df['organism'].astype(str).str.contains('uncultured bacterium'))]\n",
    "\n",
    "  # Clean the table by removing the rows that do not contain 16S\n",
    "  feat_df = feat_df[notna(feat_df['product']) & (feat_df['product'].astype(str).str.contains('16S'))]\n",
    "\n",
    "  # Copy the colony info from the isolation_source column\n",
    "  if 'colony' in feat_df.columns:\n",
    "    feat_df['strain'] = feat_df['strain'].fillna(feat_df['colony'])\n",
    "\n",
    "  if 'BioProject' not in feat_df.columns:\n",
    "    feat_df['BioProject'] = np.nan\n",
    "\n",
    "  # Split the db_xref column into multiple columns, and use the first column as column name\n",
    "  feat_df_nuc_xref = feat_df[['id', 'db_xref']].copy()\n",
    "  feat_df_nuc_xref[['xref','value']] = feat_df['db_xref'].str.split(':',expand=True)\n",
    "\n",
    "  feat_df_nuc_xref = feat_df_nuc_xref.drop_duplicates(subset=['id']).reset_index(drop=True)\n",
    "  feat_df_nuc_xref = feat_df_nuc_xref.pivot(index=['id'], columns='xref', values='value')\n",
    "  feat_df = merge(feat_df, feat_df_nuc_xref, on=\"id\")\n",
    "\n",
    "  # remove the columns that are not needed\n",
    "  feat_df.drop(columns=['db_xref'], inplace=True)\n",
    "\n",
    "  # Reset the index\n",
    "  feat_df.reset_index()\n",
    "\n",
    "  return feat_df"
   ]
  },
  {
   "cell_type": "code",
   "execution_count": 5,
   "metadata": {},
   "outputs": [],
   "source": [
    "def save_file(file_name, records, rec_type):\n",
    "  \"\"\"\n",
    "  Save the records to the file.\n",
    "\n",
    "  `file_name`: The name of the file to save to.\n",
    "\n",
    "  `records`: The records to save.\n",
    "\n",
    "  `rec_type`: The type of record to save.\n",
    "  \"\"\"\n",
    "  file_path = os.path.join(dir_path, file_name)\n",
    "  with open(file_path, \"w\") as out_handle:\n",
    "      try:\n",
    "        count = SeqIO.write(records, out_handle, rec_type)\n",
    "        logger.debug(f\"{rec_type} {count} Saved\")\n",
    "      except UndefinedSequenceError as e_seq:\n",
    "        logger.error(e_seq)\n",
    "        logger.error(f\"Failed to write {rec_type} to file {file_name}\")\n",
    "      except Exception as e:\n",
    "        logger.error(e)\n",
    "        logger.error(f\"Failed to write {rec_type} to file {file_name}\")"
   ]
  },
  {
   "cell_type": "code",
   "execution_count": 6,
   "metadata": {},
   "outputs": [],
   "source": [
    "def table_features(count: int, records: list[SeqRecord], rec_type: str, granularity=5, debug: bool = False):\n",
    "  \"\"\"\n",
    "  1. Extracts the features (both source and rRNA)\n",
    "  2. Based on cleaned up list of features, filter records for matching ids\n",
    "  3. Save the records to a file\n",
    "  \"\"\"\n",
    "  logger.debug(f\"Found {count} {rec_type}, sequences: {len(records)}\")\n",
    "  qualifiers: list[dict[str, str]] = []\n",
    "\n",
    "  save_records: list[SeqRecord] = []\n",
    "\n",
    "  for record in records:\n",
    "    feats: list[SeqFeature] = record.features\n",
    "\n",
    "    if record.id == 'KC668564.1':\n",
    "      logger.debug(f\"Printing for KC668564.1\")\n",
    "      logger.debug(record.annotations)\n",
    "      for feat in feats:\n",
    "        logger.debug(feat)\n",
    "    [source] = filter(lambda f: f.type == \"source\", feats)\n",
    "    if not source:\n",
    "       raise Exception(\"No source feature\")\n",
    "\n",
    "    # Copy the qualifiers and add the id\n",
    "    # merge the rRNA qualifiers to the same dict\n",
    "    qual = source.qualifiers.copy()\n",
    "    qual[\"id\"] = record.id\n",
    "\n",
    "    # Filter for the rRNA features\n",
    "    rRNA_filtered = list(filter(lambda f: f.type == \"rRNA\", feats))\n",
    "    if len(rRNA_filtered) == 0:\n",
    "       logger.debug(\"No rRNA feature\")\n",
    "       continue\n",
    "    elif 'contig' in record.annotations:\n",
    "      logger.debug(\"Is a contig\")\n",
    "      continue\n",
    "    else:\n",
    "      for rRNA in rRNA_filtered:\n",
    "        try:\n",
    "          qual.update(rRNA.qualifiers)\n",
    "        except Exception as e:\n",
    "           logger.error(rRNA)\n",
    "           logger.exception(e)\n",
    "\n",
    "      reference_list: list[Reference] = record.annotations.get('references', [])\n",
    "      # Get the pubmed id list from the references\n",
    "      pubmed_ids = [ref.pubmed_id for ref in reference_list if ref.pubmed_id]\n",
    "      qual['pubmed_ids'] = pubmed_ids\n",
    "\n",
    "      # Split the dbxref into a dict\n",
    "      for dbxref in record.dbxrefs:\n",
    "        split = dbxref.split(\":\")\n",
    "        if len(split) > 1:\n",
    "          qual[split[0]] = split[1]\n",
    "\n",
    "      # Since all feature values are a list of string, (usually of length 1), convert to string\n",
    "      for key in qual:\n",
    "        qual_list = qual[key]\n",
    "        if isinstance(qual_list, list):\n",
    "          qual[key] = \"; \".join(qual_list)\n",
    "\n",
    "      # Extract the colony info from the isolation_source\n",
    "      if \"Coral-associated microbial aggregate\" in qual.get('isolation_source', ''):\n",
    "        logger.debug(f\"colony info found for {record.id}\")\n",
    "        iso_qual: str = qual['isolation_source']\n",
    "\n",
    "        [res] = re.findall(r'\\((.*?)\\)', iso_qual)\n",
    "\n",
    "        qual['isolation_source'] = None\n",
    "        qual['colony'] = res\n",
    "\n",
    "      if record.id == 'KC668564.1':\n",
    "        logger.debug(f\"Printing for KC668564.1\")\n",
    "        logger.debug(qual)\n",
    "\n",
    "      # As a safe guard, check that the sequence is not empty\n",
    "      if record.seq:\n",
    "        save_records.append(record)\n",
    "\n",
    "      qualifiers.append(qual)\n",
    "\n",
    "  # Load features into a dataframe\n",
    "  df1 = DataFrame(qualifiers)\n",
    "  # Clean the table by replacing \"None\" and \"nan\"\n",
    "  df1.replace(\"None\", value=np.nan, inplace=True)\n",
    "  df1.replace(np.NaN, value=np.nan, inplace=True)\n",
    "  df1.replace(\"nan\", value=np.nan, regex=True, inplace=True)\n",
    "\n",
    "  # If not in debug mode, clean the table + save the files\n",
    "  if debug:\n",
    "    logger.debug(df1.head())\n",
    "    return df1, save_records\n",
    "  else:\n",
    "    df2 = clean_table(df1, granularity)\n",
    "    # Filter the records by the ids in the dataframe\n",
    "    filtered_recs = list(filter((lambda x: x.id in df2['id'].to_list()), save_records))\n",
    "\n",
    "    logger.info(f\"Records to save: {len(filtered_recs)}/{len(save_records)}\")\n",
    "\n",
    "    # Save the records to a file\n",
    "    save_file(f\"{rec_type}_seq.gb\", filtered_recs, \"genbank\")\n",
    "    save_file(f\"{rec_type}_seq.fasta\", filtered_recs, \"fasta\")\n",
    "\n",
    "    return df2, filtered_recs\n"
   ]
  },
  {
   "cell_type": "markdown",
   "metadata": {},
   "source": [
    "## NCBI: Popset"
   ]
  },
  {
   "cell_type": "markdown",
   "metadata": {},
   "source": [
    "### Search in NCBI (Popset)\n",
    "\n",
    "As noted by the NCBI's website, their `Popset database` is a collection of related sequences that is sourced from a single population/phylogenetic/mutation/ecosystem study. \n",
    "\n",
    "This is a useful grouping, as we would be able to extract the locational data from the metadata and use it to create a map of the distribution of the bacteria."
   ]
  },
  {
   "cell_type": "code",
   "execution_count": 7,
   "metadata": {},
   "outputs": [],
   "source": [
    "def search_popset(additional_ids: list[str] = []):\n",
    "  \"\"\"\n",
    "  Search for the popset database for the coral and Endozoicomonas.\n",
    "  :return: The number of results and the list of ids.\n",
    "  \"\"\"\n",
    "  try:\n",
    "    term = f\"((Endozoicomonas[Organism] OR Endozoicomonas[All Fields]) AND coral[All Fields]\"\n",
    "    logger.debug(term)\n",
    "    handle = Entrez.esearch(db=\"popset\",\n",
    "      term=term,\n",
    "      retmax=20,\n",
    "    )\n",
    "    res = Entrez.read(handle)\n",
    "    if isinstance(res, DictionaryElement):\n",
    "      ids: list[str] = res[\"IdList\"]\n",
    "      ids.extend(additional_ids)\n",
    "      handle = Entrez.efetch(db=\"popset\", id=ids, rettype=\"gb\")\n",
    "      records: list[SeqRecord] = list(SeqIO.parse(handle, \"gb\"))\n",
    "      return len(records), ids, records\n",
    "    else:\n",
    "      return 0, [], []\n",
    "  except HTTPError as http_e:\n",
    "    logger.error(str(http_e))\n",
    "    return 0, [], []\n",
    "  except Exception as e:\n",
    "    logger.error(e)\n",
    "    return 0, [], []"
   ]
  },
  {
   "cell_type": "markdown",
   "metadata": {},
   "source": [
    "### Summary of popset"
   ]
  },
  {
   "cell_type": "markdown",
   "metadata": {},
   "source": [
    "After review of literature that happened in the inspection by Nucleotide DB, I found some popset that were worth adding manually.\n",
    "\n",
    "This includes the popset coming out of the work of {cite:p}`Speck_2012` (`\"227461503\"`), and the work of {cite:p}`Bayer_2013` (`\"510829312\"`)."
   ]
  },
  {
   "cell_type": "code",
   "execution_count": 8,
   "metadata": {},
   "outputs": [],
   "source": [
    "additional_ids_pop = [\n",
    "  '227461503',\n",
    "  '510829312'\n",
    "]"
   ]
  },
  {
   "cell_type": "code",
   "execution_count": 9,
   "metadata": {},
   "outputs": [],
   "source": [
    "count_pop, idlist_pop, records_pop = search_popset(additional_ids_pop)"
   ]
  },
  {
   "cell_type": "markdown",
   "metadata": {},
   "source": [
    "Metadata table created for the data out of Popset database was saved to [features_of_popset_seq.csv](../../datasets/full_analysis/features_of_popset_seq.csv).\n",
    "\n",
    "Genbank file was saved as [popset_seq.gb](../../datasets/full_analysis/popset_seq.gb).\n",
    "Fasta file was saved as [popset_seq.fasta](../../datasets/full_analysis/popset_seq.fasta)."
   ]
  },
  {
   "cell_type": "code",
   "execution_count": 12,
   "metadata": {},
   "outputs": [
    {
     "name": "stderr",
     "output_type": "stream",
     "text": [
      "INFO:download_16s:Records to save: 2640/2930\n"
     ]
    },
    {
     "data": {
      "text/html": [
       "<div>\n",
       "<style scoped>\n",
       "    .dataframe tbody tr th:only-of-type {\n",
       "        vertical-align: middle;\n",
       "    }\n",
       "\n",
       "    .dataframe tbody tr th {\n",
       "        vertical-align: top;\n",
       "    }\n",
       "\n",
       "    .dataframe thead th {\n",
       "        text-align: right;\n",
       "    }\n",
       "</style>\n",
       "<table border=\"1\" class=\"dataframe\">\n",
       "  <thead>\n",
       "    <tr style=\"text-align: right;\">\n",
       "      <th></th>\n",
       "      <th>id</th>\n",
       "      <th>group</th>\n",
       "      <th>organism</th>\n",
       "      <th>strain</th>\n",
       "      <th>host</th>\n",
       "      <th>country</th>\n",
       "      <th>taxon</th>\n",
       "      <th>BioProject</th>\n",
       "      <th>pubmed_ids</th>\n",
       "      <th>isolation_source</th>\n",
       "      <th>product</th>\n",
       "    </tr>\n",
       "  </thead>\n",
       "  <tbody>\n",
       "    <tr>\n",
       "      <th>0</th>\n",
       "      <td>JX488684.2</td>\n",
       "      <td>JX488</td>\n",
       "      <td>Endozoicomonas euniceicola</td>\n",
       "      <td>EF212</td>\n",
       "      <td>Eunicea fusca (gorgonian coral)</td>\n",
       "      <td>USA</td>\n",
       "      <td>1234143</td>\n",
       "      <td>NaN</td>\n",
       "      <td>23832969</td>\n",
       "      <td>Hillsboro Ledge</td>\n",
       "      <td>16S ribosomal RNA</td>\n",
       "    </tr>\n",
       "    <tr>\n",
       "      <th>1</th>\n",
       "      <td>JX488685.1</td>\n",
       "      <td>JX488</td>\n",
       "      <td>Endozoicomonas gorgoniicola</td>\n",
       "      <td>PS125</td>\n",
       "      <td>Plexaura sp. (gorgonian coral)</td>\n",
       "      <td>Bahamas</td>\n",
       "      <td>1234144</td>\n",
       "      <td>NaN</td>\n",
       "      <td>23832969</td>\n",
       "      <td>Tuna Alley (inside reef)</td>\n",
       "      <td>16S ribosomal RNA</td>\n",
       "    </tr>\n",
       "    <tr>\n",
       "      <th>2</th>\n",
       "      <td>MG725756.1</td>\n",
       "      <td>MG725</td>\n",
       "      <td>uncultured bacterium</td>\n",
       "      <td>NaN</td>\n",
       "      <td>Pocillopora verrucosa</td>\n",
       "      <td>NaN</td>\n",
       "      <td>77133</td>\n",
       "      <td>NaN</td>\n",
       "      <td>29468040</td>\n",
       "      <td>NaN</td>\n",
       "      <td>16S ribosomal RNA</td>\n",
       "    </tr>\n",
       "    <tr>\n",
       "      <th>3</th>\n",
       "      <td>MG725757.1</td>\n",
       "      <td>MG725</td>\n",
       "      <td>uncultured bacterium</td>\n",
       "      <td>NaN</td>\n",
       "      <td>Pocillopora verrucosa</td>\n",
       "      <td>NaN</td>\n",
       "      <td>77133</td>\n",
       "      <td>NaN</td>\n",
       "      <td>29468040</td>\n",
       "      <td>NaN</td>\n",
       "      <td>16S ribosomal RNA</td>\n",
       "    </tr>\n",
       "    <tr>\n",
       "      <th>4</th>\n",
       "      <td>MG725758.1</td>\n",
       "      <td>MG725</td>\n",
       "      <td>uncultured bacterium</td>\n",
       "      <td>NaN</td>\n",
       "      <td>Pocillopora verrucosa</td>\n",
       "      <td>NaN</td>\n",
       "      <td>77133</td>\n",
       "      <td>NaN</td>\n",
       "      <td>29468040</td>\n",
       "      <td>NaN</td>\n",
       "      <td>16S ribosomal RNA</td>\n",
       "    </tr>\n",
       "  </tbody>\n",
       "</table>\n",
       "</div>"
      ],
      "text/plain": [
       "           id  group                     organism strain  \\\n",
       "0  JX488684.2  JX488   Endozoicomonas euniceicola  EF212   \n",
       "1  JX488685.1  JX488  Endozoicomonas gorgoniicola  PS125   \n",
       "2  MG725756.1  MG725         uncultured bacterium    NaN   \n",
       "3  MG725757.1  MG725         uncultured bacterium    NaN   \n",
       "4  MG725758.1  MG725         uncultured bacterium    NaN   \n",
       "\n",
       "                              host  country    taxon  BioProject pubmed_ids  \\\n",
       "0  Eunicea fusca (gorgonian coral)      USA  1234143         NaN   23832969   \n",
       "1   Plexaura sp. (gorgonian coral)  Bahamas  1234144         NaN   23832969   \n",
       "2            Pocillopora verrucosa      NaN    77133         NaN   29468040   \n",
       "3            Pocillopora verrucosa      NaN    77133         NaN   29468040   \n",
       "4            Pocillopora verrucosa      NaN    77133         NaN   29468040   \n",
       "\n",
       "           isolation_source            product  \n",
       "0           Hillsboro Ledge  16S ribosomal RNA  \n",
       "1  Tuna Alley (inside reef)  16S ribosomal RNA  \n",
       "2                       NaN  16S ribosomal RNA  \n",
       "3                       NaN  16S ribosomal RNA  \n",
       "4                       NaN  16S ribosomal RNA  "
      ]
     },
     "execution_count": 12,
     "metadata": {},
     "output_type": "execute_result"
    }
   ],
   "source": [
    "# Load the metadata, and save the records to a file\n",
    "feat_df_pop0, recs_pop = table_features(count_pop, records_pop, \"popset\")\n",
    "\n",
    "feat_df_pop0.to_csv(os.path.join(dir_path, \"features_of_popset_seq.csv\"), index=False)\n",
    "\n",
    "feat_df_pop = feat_df_pop0.copy()\n",
    "col_interest = ['id', 'group', 'organism', 'strain', 'host', 'country', 'taxon', 'BioProject', 'pubmed_ids', 'isolation_source', 'product']\n",
    "feat_df_pop = feat_df_pop[col_interest]\n",
    "feat_df_pop.head()"
   ]
  },
  {
   "cell_type": "markdown",
   "metadata": {},
   "source": [
    "### Geographic details"
   ]
  },
  {
   "cell_type": "code",
   "execution_count": 13,
   "metadata": {},
   "outputs": [
    {
     "data": {
      "text/plain": [
       "country\n",
       "Bahamas            1\n",
       "France             1\n",
       "Malaysia           5\n",
       "Saudi Arabia    1172\n",
       "Taiwan            39\n",
       "USA              784\n",
       "NaN                0\n",
       "Name: country, dtype: int64"
      ]
     },
     "execution_count": 13,
     "metadata": {},
     "output_type": "execute_result"
    }
   ],
   "source": [
    "feat_df_pop.groupby(['country'], dropna=False)['country'].count()"
   ]
  },
  {
   "cell_type": "code",
   "execution_count": 14,
   "metadata": {},
   "outputs": [
    {
     "data": {
      "text/plain": [
       "country       isolation_source        \n",
       "Bahamas       Tuna Alley (inside reef)       1\n",
       "France        NaN                            0\n",
       "Malaysia      NaN                            0\n",
       "Saudi Arabia  Southern Red Sea            1172\n",
       "Taiwan        Green Island                  17\n",
       "              Ken Ting                      21\n",
       "              Yeh Liu                        1\n",
       "USA           Hillsboro Ledge                1\n",
       "              Summerland Key, Florida       25\n",
       "              West Maui                    758\n",
       "NaN           NaN                            0\n",
       "Name: isolation_source, dtype: int64"
      ]
     },
     "execution_count": 14,
     "metadata": {},
     "output_type": "execute_result"
    }
   ],
   "source": [
    "feat_df_pop.groupby(['country', 'isolation_source'], dropna=False)['isolation_source'].count()"
   ]
  },
  {
   "cell_type": "code",
   "execution_count": 15,
   "metadata": {},
   "outputs": [
    {
     "data": {
      "text/plain": [
       "host                                  country       isolation_source        \n",
       "Acropora clathrata                    NaN           NaN                           1\n",
       "Acropora humilis                      Saudi Arabia  Southern Red Sea            322\n",
       "Corallium rubrum                      France        NaN                           1\n",
       "Eunicea fusca (gorgonian coral)       USA           Hillsboro Ledge               1\n",
       "Eunicella cavolini                    NaN           NaN                          20\n",
       "Lobophytum compactum                  NaN           NaN                           1\n",
       "Marine tunicates                      Malaysia      NaN                           5\n",
       "Plexaura homomalla (gorgonian coral)  USA           Summerland Key, Florida      25\n",
       "Plexaura sp. (gorgonian coral)        Bahamas       Tuna Alley (inside reef)      1\n",
       "Pocillopora damicornis                Saudi Arabia  Southern Red Sea            496\n",
       "Pocillopora verrucosa                 NaN           NaN                          58\n",
       "Porites compressa                     USA           West Maui                   758\n",
       "Sinularia flexibilis                  NaN           NaN                           2\n",
       "Stylophora pistillata                 Saudi Arabia  Southern Red Sea            354\n",
       "                                      NaN           NaN                         556\n",
       "Stylophora pistillata (coral)         Taiwan        Green Island                 17\n",
       "                                                    Ken Ting                     21\n",
       "                                                    Yeh Liu                       1\n",
       "Name: id, dtype: int64"
      ]
     },
     "execution_count": 15,
     "metadata": {},
     "output_type": "execute_result"
    }
   ],
   "source": [
    "feat_df_pop.groupby(['host', 'country', 'isolation_source'], dropna=False)['id'].count()"
   ]
  },
  {
   "cell_type": "markdown",
   "metadata": {},
   "source": [
    "## NCBI: Nucleotide databse\n",
    "\n",
    "While **+1500** results is absolute enough to work with, I will expand the scope to include more sequences by searching directly through the nucleotide database.\n",
    "\n",
    "I will combine the popset dataset and the findings below, and then remove duplicates."
   ]
  },
  {
   "cell_type": "markdown",
   "metadata": {},
   "source": [
    "### Search in NCBI (Nucleotide)"
   ]
  },
  {
   "cell_type": "markdown",
   "metadata": {},
   "source": [
    "The review of literature revealed one nucleotide sequence that was not included by the search using `search_nucleo(...)` function, which found a match to a coral species found in the Red Sea {cite}`Pogoreutz2022`. We will manually note this, and add it to our list of sequences to download. \n",
    "\n",
    "\n",
    "Interestingly, looking more into the referenced sequence revealed that the original study had a total of 412 16S Endozoicomonas sequences to work with {cite}`Bayer_2013`. This will be added by adding the accession numbers by Popset (above).\n",
    "\n",
    "Additionally, they {cite}`Bayer_2013` also provided a supplementary phylogenetic tree. We will use this to add more accession ids to our list of sequences to download.\n",
    "\n",
    "```{figure} ../../outputs/full_analysis/bayer_2013_fig_s3_1pg_rotated.png\n",
    "---\n",
    "name: parsimony-tree-bayer-2013\n",
    "---\n",
    "Tree showing the phylogenetic relationship of Endozoicomonas to other bacterial species.\n",
    "```\n",
    "\n",
    "These are the accession IDs mentioned in the tree above.\n",
    "| Accession ID | Status | Host | DOI |\n",
    "|--------------|------- |----- |---- |\n",
    "| GU118644  | Probable | Montastraea faveolata (coral) | {cite}`Sunagawa_2010` |\n",
    "| GU118168  | Probable | Diploria strigosa (coral) |{cite}`Sunagawa_2010` |\n",
    "| GU118379  | Probable | Gorgonia ventalina (coral) |{cite}`Sunagawa_2010` |\n",
    "| GU118072  | Probable | Acropora palmata (coral) |{cite}`Sunagawa_2010` |\n",
    "| GU118404  | Probable | Gorgonia ventalina (coral) |{cite}`Sunagawa_2010` |\n",
    "| GU118957  | Probable | Porites astreoides (coral) |{cite}`Sunagawa_2010` |\n",
    "| GU784983  | Probable | Sponge Ianthella basta |{cite}`Luter_2010` |\n",
    "| GU118966  | Probable | Porites astreoides (coral) | {cite}`Sunagawa_2010` |\n",
    "| AB695088  | Probable | Haplosclerida gen. et sp. (purple sponge) | {cite}`Nishijima_2013` |\n",
    "| AM259915  | Probable | Chondrilla nucula (sponge) | {cite}`Thiel_2007` |\n",
    "| DQ884169  | Probable (Uncultured Gammaproteobacteria) | Cystodytes dellechiajei (tunicate) | {cite}`MartinezGarcia2006` |\n",
    "| DQ884170  | Probable (Gammaproteobacteria) | Cystodytes dellechiajei (tunicate) | {cite}`MartinezGarcia2006` |\n",
    "| DQ884160  | Probable (Uncultured Gammaproteobacteria) | Cystodytes dellechiajei (tunicate) | {cite}`MartinezGarcia2006` | \n",
    "| DQ917901  | Probable | Muricea elongata (Octocoral) | {cite}`Ranzer2007` |\n",
    "| AY700600  | Probable | Pocillopora damicornis (coral) | {cite}`Bourne_2005` |\n",
    "| AY700601  | Probable | Pocillopora damicornis (coral) | {cite}`Bourne_2005` |\n",
    "| FJ202634  | Probable, (uncultured bacterium) | Montastraea faveolata (coral) | {cite}`Sunagawa_2009` |\n",
    "| FJ347758  | Probable | Montipora aequituberculata (coral) | {cite}`Yang_2010` | \n",
    "| FJ930289  | Probable, (Uncultured bacterium) | Porites compressa (coral) | {cite}`Speck_2012` |\n",
    "\n",
    "> `DQ884169  (C19)` `DQ884170 (C23)`, `DQ884160 (CRNA5)` noted with \"colony sequences C19, C23 and CRNA5 [...] formed a group related to Endozoiciomonas elysicola (97.6–99.7% similarity), a bacterium isolated from the marine mollusc Elysia ornata (M. Kurahashi, unpublished) {cite}`MartinezGarcia2006`\"\n",
    "\n",
    "\n",
    "From above tree, but will not be included.\n",
    "| Accession ID | Status | Host | DOI |\n",
    "|--------------|------- |----- |---- |\n",
    "| AM503093  | Very unlikely (Marinobacter guineae) | Antarctic environment |  |\n",
    "| AM229315  | Very unlikely (Halomonas janggokensis) | saline water |  |\n",
    "| GU291858  | Unlikely (due to distance on tree) | solar saltern | {cite}`Joung2010` |\n",
    "| AB205011  | Unlikely, Spongiobacter nickelotolerans | marine sponge | |\n",
    "| AB196667  | Probable, not included | Elysia ornata (sea slug) | {cite}`Kurahashi_2007` |\n",
    "| DQ917830  | Unlikely (Spongiobacter) | Cystodytes dellechiajei (tunicate) | {cite}`MartinezGarcia2006` |\n",
    "| DQ917877  | Unlikely (Spongiobacter) | Cystodytes dellechiajei (tunicate) | {cite}`MartinezGarcia2006` |\n",
    "| DQ917879  | Unlikely (Spongiobacter) | Muricea elongata (Octocoral) | {cite}`Ranzer2007` |\n",
    "| GQ853555  | Probable, not included | Loripes lacteus (clam) | gill symbiont | {cite}`Mausz2010` |\n",
    "| FM162182  | Probable, not included | Bathymodiolus brooksi (mussels) | {cite}`Zielinski_2009` |\n",
    "| FM163188  | Probable, not included | Bathymodiolus brooksi (mussels) | {cite}`Zielinski_2009` |\n",
    "| FJ154998  | Probable, (uncultured bacterium) not included | ocean water | | \n",
    "| EU884930  | Probable, not included | Sixbar angelfish | |\n",
    "\n",
    "Here are other accession IDs that were found when examining the references of the papers above.\n",
    "| Accession ID | DOI |\n",
    "|--------------|-----|\n",
    "| AB695089 | {cite}`Nishijima_2013` |"
   ]
  },
  {
   "cell_type": "code",
   "execution_count": 16,
   "metadata": {},
   "outputs": [],
   "source": [
    "def search_nucleo(limit: int, additional_ids: list[str] = []):\n",
    "  \"\"\"\n",
    "  Search for the nucleotide database for nucleotides that mention coral and Endozoicomonas.\n",
    "\n",
    "  :param `limit`: The maximum number of results to return.\n",
    "  \"\"\"\n",
    "\n",
    "  term = \"(coral[All Fields] AND 16S[Title]) AND Endozoicomonas[Organism]\"\n",
    "  try:\n",
    "    handle = Entrez.esearch(db=\"nucleotide\",\n",
    "      term=term,\n",
    "      retmax=limit,\n",
    "    )\n",
    "    res = Entrez.read(handle)\n",
    "    if isinstance(res, DictionaryElement):\n",
    "      ids: list[str] = res[\"IdList\"]\n",
    "      ids.extend(additional_ids)\n",
    "      logger.debug(ids)\n",
    "      handle = Entrez.efetch(db=\"nucleotide\", id=ids, rettype=\"gb\")\n",
    "      records: list[SeqRecord] = list(SeqIO.parse(handle, \"gb\"))\n",
    "      return len(records), ids, records\n",
    "    else:\n",
    "      return 0, [], []\n",
    "  except HTTPError as http_e:\n",
    "    logger.error(http_e.read())\n",
    "    logger.exception(http_e)\n",
    "    return 0, [], []\n",
    "  except Exception as e:\n",
    "    logger.error(e)\n",
    "    logger.exception(e)\n",
    "    return 0, [], []"
   ]
  },
  {
   "cell_type": "code",
   "execution_count": 17,
   "metadata": {},
   "outputs": [],
   "source": [
    "additional_accessions = ['AB695089']\n",
    "count_nuc, idlist_nuc, records_nuc = search_nucleo(4000, additional_accessions)"
   ]
  },
  {
   "cell_type": "markdown",
   "metadata": {},
   "source": [
    "### Summary of nucleotide database\n",
    "\n",
    "We will save the metadata from the nucleotide db into [features_of_nucleotide_seq.csv](../../datasets/full_analysis/features_of_nucleotide_seq.csv).\n",
    "\n",
    "Genbank file was saved as [nucleotide_seq.gb](../../datasets/full_analysis/nucleotide_seq.gb).\n",
    "Fasta file was saved as [nucleotide_seq.fasta](../../datasets/full_analysis/nucleotide_seq.fasta)."
   ]
  },
  {
   "cell_type": "code",
   "execution_count": 18,
   "metadata": {},
   "outputs": [
    {
     "name": "stderr",
     "output_type": "stream",
     "text": [
      "INFO:download_16s:Records to save: 154/154\n"
     ]
    }
   ],
   "source": [
    "from pandas import concat\n",
    "\n",
    "DEBUG = False\n",
    "feat_df_nuc0, recs_nuc = table_features(count_nuc, records_nuc, \"nucleotide\", 5, DEBUG)\n",
    "feat_df_nuc0.to_csv(os.path.join(dir_path, \"features_of_nucleotide_seq.csv\"), index=False)"
   ]
  },
  {
   "cell_type": "markdown",
   "metadata": {},
   "source": [
    "We will save the combined metadata to [feat_all_seq.csv](../../datasets/full_analysis/feat_all_seq.csv)."
   ]
  },
  {
   "cell_type": "code",
   "execution_count": 19,
   "metadata": {},
   "outputs": [],
   "source": [
    "feat_df_all0 = concat([feat_df_nuc0, feat_df_pop0]).drop_duplicates(subset=\"id\")\n",
    "feat_df_all0.to_csv(os.path.join(dir_path, \"feat_all_seq.csv\"), index=False)"
   ]
  },
  {
   "cell_type": "code",
   "execution_count": 20,
   "metadata": {},
   "outputs": [],
   "source": [
    "def unique(to_combine: list[list[SeqRecord]], all_df: DataFrame):\n",
    "    idlist = all_df['id'].to_list()\n",
    "    # intilize a null list\n",
    "    keep_list: list[SeqRecord] = []\n",
    "\n",
    "    todo_list: list[SeqRecord] = []\n",
    "\n",
    "    already_found_list: list[str] = []\n",
    "\n",
    "    for todo in to_combine:\n",
    "        todo_list.extend(todo)\n",
    "\n",
    "    # traverse for all elements\n",
    "    for x in todo_list:\n",
    "        if x.id in already_found_list:\n",
    "          continue\n",
    "        else:\n",
    "          already_found_list.append(x.id)\n",
    "        # check if exists in unique_list or not\n",
    "        if x.id in idlist:\n",
    "            keep_list.append(x)\n",
    "\n",
    "    return keep_list"
   ]
  },
  {
   "cell_type": "markdown",
   "metadata": {},
   "source": [
    "The genbank and sequence files of all sequences will be saved to [all_seq.gb](../../datasets/full_analysis/all_seq.gb) and [all_seq.fasta](../../datasets/full_analysis/all_seq.fasta) respectively."
   ]
  },
  {
   "cell_type": "code",
   "execution_count": 21,
   "metadata": {},
   "outputs": [
    {
     "name": "stderr",
     "output_type": "stream",
     "text": [
      "INFO:download_16s:Unique records found: 1854 / 1854\n"
     ]
    }
   ],
   "source": [
    "unique_recs = unique([recs_nuc, recs_pop], feat_df_all0)\n",
    "\n",
    "logger.info(f\"Unique records found: {len(unique_recs)} / {len(feat_df_all0['id'].to_list())}\")\n",
    "# Save the records to a file\n",
    "save_file(\"all_seq.gb\", unique_recs, \"genbank\")\n",
    "save_file(\"all_seq.fasta\", unique_recs, \"fasta\")"
   ]
  },
  {
   "cell_type": "code",
   "execution_count": 22,
   "metadata": {},
   "outputs": [
    {
     "data": {
      "text/html": [
       "<div>\n",
       "<style scoped>\n",
       "    .dataframe tbody tr th:only-of-type {\n",
       "        vertical-align: middle;\n",
       "    }\n",
       "\n",
       "    .dataframe tbody tr th {\n",
       "        vertical-align: top;\n",
       "    }\n",
       "\n",
       "    .dataframe thead th {\n",
       "        text-align: right;\n",
       "    }\n",
       "</style>\n",
       "<table border=\"1\" class=\"dataframe\">\n",
       "  <thead>\n",
       "    <tr style=\"text-align: right;\">\n",
       "      <th></th>\n",
       "      <th>id</th>\n",
       "      <th>group</th>\n",
       "      <th>organism</th>\n",
       "      <th>host</th>\n",
       "      <th>country</th>\n",
       "      <th>pubmed_ids</th>\n",
       "      <th>isolation_source</th>\n",
       "      <th>iso_source2</th>\n",
       "      <th>product</th>\n",
       "    </tr>\n",
       "  </thead>\n",
       "  <tbody>\n",
       "    <tr>\n",
       "      <th>0</th>\n",
       "      <td>OM273416.1</td>\n",
       "      <td>OM273</td>\n",
       "      <td>Endozoicomonas euniceicola</td>\n",
       "      <td>Eunicea flexuosa</td>\n",
       "      <td>USA</td>\n",
       "      <td></td>\n",
       "      <td>Florida Keys</td>\n",
       "      <td>Florida Keys</td>\n",
       "      <td>16S ribosomal RNA</td>\n",
       "    </tr>\n",
       "    <tr>\n",
       "      <th>1</th>\n",
       "      <td>OM273412.1</td>\n",
       "      <td>OM273</td>\n",
       "      <td>Endozoicomonas gorgoniicola</td>\n",
       "      <td>Eunicea flexuosa</td>\n",
       "      <td>USA</td>\n",
       "      <td></td>\n",
       "      <td>Florida Keys</td>\n",
       "      <td>Florida Keys</td>\n",
       "      <td>16S ribosomal RNA</td>\n",
       "    </tr>\n",
       "    <tr>\n",
       "      <th>2</th>\n",
       "      <td>OL957540.1</td>\n",
       "      <td>OL957</td>\n",
       "      <td>uncultured Endozoicomonas sp.</td>\n",
       "      <td>Stylophora pistillata</td>\n",
       "      <td>Japan</td>\n",
       "      <td></td>\n",
       "      <td>Okinawa</td>\n",
       "      <td>Okinawa</td>\n",
       "      <td>16S ribosomal RNA</td>\n",
       "    </tr>\n",
       "    <tr>\n",
       "      <th>3</th>\n",
       "      <td>OL957539.1</td>\n",
       "      <td>OL957</td>\n",
       "      <td>uncultured Endozoicomonas sp.</td>\n",
       "      <td>Stylophora pistillata</td>\n",
       "      <td>Japan</td>\n",
       "      <td></td>\n",
       "      <td>Okinawa</td>\n",
       "      <td>Okinawa</td>\n",
       "      <td>16S ribosomal RNA</td>\n",
       "    </tr>\n",
       "    <tr>\n",
       "      <th>4</th>\n",
       "      <td>OL957538.1</td>\n",
       "      <td>OL957</td>\n",
       "      <td>uncultured Endozoicomonas sp.</td>\n",
       "      <td>Stylophora pistillata</td>\n",
       "      <td>Japan</td>\n",
       "      <td></td>\n",
       "      <td>Okinawa</td>\n",
       "      <td>Okinawa</td>\n",
       "      <td>16S ribosomal RNA</td>\n",
       "    </tr>\n",
       "  </tbody>\n",
       "</table>\n",
       "</div>"
      ],
      "text/plain": [
       "           id  group                       organism                   host  \\\n",
       "0  OM273416.1  OM273     Endozoicomonas euniceicola       Eunicea flexuosa   \n",
       "1  OM273412.1  OM273    Endozoicomonas gorgoniicola       Eunicea flexuosa   \n",
       "2  OL957540.1  OL957  uncultured Endozoicomonas sp.  Stylophora pistillata   \n",
       "3  OL957539.1  OL957  uncultured Endozoicomonas sp.  Stylophora pistillata   \n",
       "4  OL957538.1  OL957  uncultured Endozoicomonas sp.  Stylophora pistillata   \n",
       "\n",
       "  country pubmed_ids isolation_source   iso_source2            product  \n",
       "0     USA                Florida Keys  Florida Keys  16S ribosomal RNA  \n",
       "1     USA                Florida Keys  Florida Keys  16S ribosomal RNA  \n",
       "2   Japan                     Okinawa       Okinawa  16S ribosomal RNA  \n",
       "3   Japan                     Okinawa       Okinawa  16S ribosomal RNA  \n",
       "4   Japan                     Okinawa       Okinawa  16S ribosomal RNA  "
      ]
     },
     "execution_count": 22,
     "metadata": {},
     "output_type": "execute_result"
    }
   ],
   "source": [
    "if DEBUG:\n",
    "  col_interest = ['id', 'organism', 'strain', 'host', 'country', 'pubmed_ids', 'product', 'isolation_source']\n",
    "else:\n",
    "  col_interest = ['id', 'group', 'organism', 'host', 'country', 'pubmed_ids', 'isolation_source', 'iso_source2', 'product']\n",
    "\n",
    "feat_df_all = feat_df_all0[col_interest]\n",
    "feat_df_all.head()"
   ]
  },
  {
   "cell_type": "markdown",
   "metadata": {},
   "source": [
    "### Geographic details\n",
    "\n",
    "Here shows the breakdown by country, and by isolation source as reported by the metadata."
   ]
  },
  {
   "cell_type": "code",
   "execution_count": 23,
   "metadata": {},
   "outputs": [
    {
     "data": {
      "text/plain": [
       "country\n",
       "Bahamas           1\n",
       "France            1\n",
       "Japan            40\n",
       "Malaysia          5\n",
       "Saudi Arabia    586\n",
       "Taiwan           69\n",
       "USA             786\n",
       "NaN               0\n",
       "Name: country, dtype: int64"
      ]
     },
     "execution_count": 23,
     "metadata": {},
     "output_type": "execute_result"
    }
   ],
   "source": [
    "feat_df_all.groupby(['country'], dropna=False)['country'].count()"
   ]
  },
  {
   "cell_type": "code",
   "execution_count": 24,
   "metadata": {},
   "outputs": [
    {
     "data": {
      "text/plain": [
       "country       isolation_source        \n",
       "Bahamas       Tuna Alley (inside reef)      1\n",
       "France        NaN                           0\n",
       "Japan         Okinawa                      39\n",
       "              Shizuoka, Numazu              1\n",
       "Malaysia      NaN                           0\n",
       "Saudi Arabia  Southern Red Sea            586\n",
       "Taiwan        Green Island                 17\n",
       "              Ken Ting                     21\n",
       "              Kenting                      28\n",
       "              Yeh Liu                       1\n",
       "              NaN                           0\n",
       "USA           Florida Keys                  2\n",
       "              Hillsboro Ledge               1\n",
       "              Summerland Key, Florida      25\n",
       "              West Maui                   758\n",
       "NaN           NaN                           0\n",
       "Name: isolation_source, dtype: int64"
      ]
     },
     "execution_count": 24,
     "metadata": {},
     "output_type": "execute_result"
    }
   ],
   "source": [
    "feat_df_all.groupby(['country', 'isolation_source'], dropna=False)['isolation_source'].count()"
   ]
  },
  {
   "cell_type": "code",
   "execution_count": 25,
   "metadata": {},
   "outputs": [
    {
     "data": {
      "text/plain": [
       "country       isolation_source          host                                                   \n",
       "Bahamas       Tuna Alley (inside reef)  Plexaura sp. (gorgonian coral)                               1\n",
       "France        NaN                       Corallium rubrum                                             1\n",
       "Japan         Okinawa                   Stylophora pistillata                                       39\n",
       "              Shizuoka, Numazu          Isolated from purple sponge (Haplosclerida gen. et sp.)      1\n",
       "Malaysia      NaN                       Marine tunicates                                             5\n",
       "Saudi Arabia  Southern Red Sea          Acropora humilis                                           161\n",
       "                                        Pocillopora damicornis                                     248\n",
       "                                        Stylophora pistillata                                      177\n",
       "Taiwan        Green Island              Stylophora pistillata (coral)                               17\n",
       "              Ken Ting                  Stylophora pistillata (coral)                               21\n",
       "              Kenting                   Stylophora pistillata                                       28\n",
       "              Yeh Liu                   Stylophora pistillata (coral)                                1\n",
       "              NaN                       sea coral                                                    2\n",
       "USA           Florida Keys              Eunicea flexuosa                                             2\n",
       "              Hillsboro Ledge           Eunicea fusca (gorgonian coral)                              1\n",
       "              Summerland Key, Florida   Plexaura homomalla (gorgonian coral)                        25\n",
       "              West Maui                 Porites compressa                                          758\n",
       "NaN           NaN                       Acropora clathrata                                           1\n",
       "                                        Acropora cytherea                                            1\n",
       "                                        Acropora hemprichii                                          1\n",
       "                                        Eunicella cavolini                                          20\n",
       "                                        Lobophytum compactum                                         1\n",
       "                                        Pocillopora verrucosa                                       58\n",
       "                                        Sea coral                                                    1\n",
       "                                        Sinularia flexibilis                                         2\n",
       "                                        Stylophora pistillata                                      278\n",
       "                                        sea coral                                                    3\n",
       "Name: id, dtype: int64"
      ]
     },
     "execution_count": 25,
     "metadata": {},
     "output_type": "execute_result"
    }
   ],
   "source": [
    "feat_df_all.groupby(['country', 'isolation_source', 'host'], dropna=False)['id'].count()"
   ]
  },
  {
   "cell_type": "markdown",
   "metadata": {},
   "source": [
    "### Fixing isolation_source column\n",
    "\n",
    "By the inspection above, we know that we need make [a list](../../datasets/full_analysis/fix_list_gran_5.csv) of `isolation_source` rows to fix manually by reading the original literature it was published in."
   ]
  },
  {
   "cell_type": "markdown",
   "metadata": {},
   "source": [
    "`OL957` based results can be traced back to this paper by {cite:p}`Wada_2022`."
   ]
  },
  {
   "cell_type": "code",
   "execution_count": 26,
   "metadata": {},
   "outputs": [],
   "source": [
    "def create_fix_csv(df: DataFrame, csv_file_name=\"fix_list.csv\"):\n",
    "  manual_fix = ['country', 'isolation_source','group', 'id']\n",
    "  df2 = df[manual_fix].copy()\n",
    "  df2 = df2.groupby(['country', 'isolation_source','group'], dropna=False).first().reset_index(drop=True)\n",
    "\n",
    "  df3 = merge(df2, df, on=['id'], how='left')\n",
    "  df3[manual_fix].to_csv(os.path.join(dir_path, csv_file_name), index=False, index_label=False, na_rep=\"\")\n",
    "\n",
    "  return df3\n",
    "\n",
    "feat_df_nuc2 = create_fix_csv(feat_df_all, \"fix_list_gran_5.csv\")\n"
   ]
  }
 ],
 "metadata": {
  "kernelspec": {
   "display_name": ".venv",
   "language": "python",
   "name": "python3"
  },
  "language_info": {
   "codemirror_mode": {
    "name": "ipython",
    "version": 3
   },
   "file_extension": ".py",
   "mimetype": "text/x-python",
   "name": "python",
   "nbconvert_exporter": "python",
   "pygments_lexer": "ipython3",
   "version": "3.11.4"
  }
 },
 "nbformat": 4,
 "nbformat_minor": 2
}
