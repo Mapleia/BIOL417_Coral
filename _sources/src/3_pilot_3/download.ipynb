{
 "cells": [
  {
   "cell_type": "markdown",
   "metadata": {},
   "source": [
    "# Pilot 3\n",
    "\n",
    "I wanted to see if I can use more than the 16S rRNA gene to identify the species of the bacteria. I first searched online and found that there was a further breakdown in taxa. Taking note of the list of organisms, I scripted a search for Endozoicomonas & coral. This included a lot of whole genome shotgunning, which in the end turned out to be useless for further analysis, and took a long time to align and tree search.\n",
    "\n",
    "We are using the package biopython to download nucleotide datasets from NCBI's Genbank, then prep those to align later. The guide on downloading from NCBI is from [this guide](https://notebook.community/widdowquinn/Notebooks-Bioinformatics/Biopython_NCBI_Entrez_downloads)."
   ]
  },
  {
   "cell_type": "markdown",
   "metadata": {},
   "source": [
    "## Setup the environment"
   ]
  },
  {
   "cell_type": "code",
   "execution_count": 12,
   "metadata": {},
   "outputs": [],
   "source": [
    "from Bio import Entrez, SeqIO\n",
    "from Bio.SeqRecord import SeqRecord\n",
    "# from Bio.Align.Applications import ClustalwCommandline\n",
    "import os"
   ]
  },
  {
   "cell_type": "markdown",
   "metadata": {},
   "source": [
    "Setup the `ncbi_download` directory, and check that the list of organisms is in the file [`organisms.txt`](../../datasets/shotgun_sequences/organism_list.txt)."
   ]
  },
  {
   "cell_type": "code",
   "execution_count": 13,
   "metadata": {},
   "outputs": [
    {
     "name": "stdout",
     "output_type": "stream",
     "text": [
      "E:\\Kaede\\Documents\\GitHub\\BIOL417_CORAL\\datasets\\shotgun_sequences\\ncbi_downloads\n"
     ]
    }
   ],
   "source": [
    "# Create a new directory (if needed) for output/downloads\n",
    "path = os.path.realpath(\"..\\\\..\\\\datasets\\\\shotgun_sequences\\\\ncbi_downloads\")\n",
    "print(path)\n",
    "os.makedirs(path, exist_ok=True)\n",
    "\n",
    "out_amount = os.listdir(path)\n",
    "\n",
    "if len(out_amount) == 0:\n",
    "    raise Exception(\"No organism list in ncbi_downloads.\")"
   ]
  },
  {
   "cell_type": "code",
   "execution_count": 14,
   "metadata": {},
   "outputs": [],
   "source": [
    "Entrez.email = \"kaedeito@student.ubc.ca\"\n",
    "# This line sets the name of the tool that is making the queries\n",
    "Entrez.tool = \"alignment.ipynb\""
   ]
  },
  {
   "cell_type": "markdown",
   "metadata": {},
   "source": [
    "## Sample search to download from NCBI\n",
    "Here is an example using the generic search term of \"Endozoicomonas\" and \"coral\" in NCBI's Genbank nucleotide database.\n",
    "\n",
    "The `Entrez.esearch(...)` function is documented [here](https://www.ncbi.nlm.nih.gov/books/NBK25499/#chapter4.ESearch)."
   ]
  },
  {
   "cell_type": "code",
   "execution_count": 15,
   "metadata": {},
   "outputs": [
    {
     "name": "stdout",
     "output_type": "stream",
     "text": [
      "['NZ_CP120717.1', 'CP120717.1', 'NZ_JAHHPM000000000.1', 'NZ_JAHHPM010000603.1', 'NZ_JAHHPM010000602.1', 'NZ_JAHHPM010000601.1', 'NZ_JAHHPM010000600.1', 'NZ_JAHHPM010000599.1', 'NZ_JAHHPM010000598.1', 'NZ_JAHHPM010000597.1']\n"
     ]
    }
   ],
   "source": [
    "from Bio.Entrez.Parser import DictionaryElement, IntegerElement, ListElement, NoneElement\n",
    "\n",
    "\n",
    "def search_sample_coral_bacteria():\n",
    "  term = \"Endozoicomonas[Organism] AND coral[All Fields] AND biomol_genomic[PROP]\"\n",
    "  handle = Entrez.esearch(db=\"nucleotide\",\n",
    "    term=term,\n",
    "    retmax=10,\n",
    "    idtype=\"acc\",\n",
    "  )\n",
    "\n",
    "  # This line converts the returned information from NCBI into a form we\n",
    "  # can use, as before.\n",
    "  record: DictionaryElement | ListElement | IntegerElement | NoneElement | None = Entrez.read(handle)\n",
    "  if isinstance(record, DictionaryElement):\n",
    "    print(record['IdList'])\n",
    "\n",
    "search_sample_coral_bacteria()"
   ]
  },
  {
   "cell_type": "markdown",
   "metadata": {},
   "source": [
    "## Download sequences for our organism list\n",
    "From a file called \"organism_list.txt\", read the list of organisms to search.\n",
    "\n",
    "Add the search term \"coral\" to the end of each organism name, and limit to 10 results per taxon. Also limit the search to specific range of nucleotide length."
   ]
  },
  {
   "cell_type": "code",
   "execution_count": 16,
   "metadata": {},
   "outputs": [],
   "source": [
    "\n",
    "list_orgs = open(\"../../datasets/shotgun_sequences/organism_list.txt\").read().splitlines()\n",
    "\n",
    "def load_records():\n",
    "  list_of_accession_id: list[str] = []\n",
    "\n",
    "  min_seq_length = 1200\n",
    "  max_seq_length = 10000\n",
    "\n",
    "  # limit length of sequence\n",
    "  length_search = f\"({min_seq_length}[SLEN] : {max_seq_length}[SLEN])\"\n",
    "\n",
    "  for org in list_orgs:\n",
    "    term = f\"(\\\"{org}\\\"[Organism] OR {org}[All Fields]) AND coral[All Fields] AND {length_search} AND biomol_genomic[PROP]\"\n",
    "    handle = Entrez.esearch(db=\"nucleotide\",\n",
    "      term=term,\n",
    "      retmax=10,\n",
    "      idtype=\"acc\",\n",
    "    )\n",
    "    record = Entrez.read(handle)\n",
    "    if isinstance(record, DictionaryElement):\n",
    "      list_of_accession_id.append(record['IdList'])\n",
    "\n",
    "  return list_of_accession_id\n"
   ]
  },
  {
   "cell_type": "markdown",
   "metadata": {},
   "source": [
    "A class to hold the search results, and a function to print the results to a fasta file."
   ]
  },
  {
   "cell_type": "code",
   "execution_count": 17,
   "metadata": {},
   "outputs": [],
   "source": [
    "from dataclasses import dataclass\n",
    "from io import TextIOWrapper\n",
    "\n",
    "@dataclass\n",
    "class OrganismAccession:\n",
    "  ids: list[str]\n",
    "  organism: str\n",
    "  handle: TextIOWrapper\n",
    "  folder: str\n",
    "  record: list[SeqRecord]\n",
    "\n",
    "  def __init__(self, ids, organism):\n",
    "    self.ids = ids\n",
    "    self.organism = organism\n",
    "    self.folder = f\"..\\\\..\\\\datasets\\\\shotgun_sequences\\\\ncbi_downloads\\\\{self.organism}\"\n",
    "    os.makedirs(self.folder, exist_ok=True)\n",
    "    self.handle = Entrez.efetch(db=\"nucleotide\", id=ids, rettype=\"fasta\", retmode=\"text\")\n",
    "\n",
    "  def download_save(self):\n",
    "    with open(f\"{self.folder}\\\\nucleotide.fasta\", \"w\") as out_handle:\n",
    "      out_handle.write(self.handle.read())\n",
    "      print(f\"{self.organism} Saved\")\n",
    "\n",
    "  def get_record(self):\n",
    "    self.records: list[SeqRecord] = list(SeqIO.parse(f\"{self.folder}\\\\nucleotide.fasta\", \"fasta\"))"
   ]
  },
  {
   "cell_type": "code",
   "execution_count": 18,
   "metadata": {},
   "outputs": [],
   "source": [
    "def download_sequences():\n",
    "  \"\"\"\n",
    "  Download sequences from NCBI from the handle set by load_records()\n",
    "  and save them in a folder named after the organism.\n",
    "  Load the SeqRecords from the saved fasta file.\n",
    "  \"\"\"\n",
    "  organisms_records: list[SeqRecord] = []\n",
    "\n",
    "  len_org = len(list_orgs)\n",
    "  list_of_accession_id = load_records()\n",
    "  len_results = len(list_of_accession_id)\n",
    "  if len_org != len_results:\n",
    "    raise Exception(\"Length of organism list and results list are not the same\")\n",
    "\n",
    "  for i in range(len_org):\n",
    "    org = list_orgs[i]\n",
    "    ids = list_of_accession_id[i]\n",
    "    organism_accession = OrganismAccession(ids, org)\n",
    "    organism_accession.download_save()\n",
    "    organism_accession.get_record()\n",
    "    organisms_records.extend(organism_accession.records)\n",
    "\n",
    "  return organisms_records\n",
    "\n",
    "\n",
    "def remove_duplicates(organisms_records: list[SeqRecord]):\n",
    "  \"\"\"\"\n",
    "  Remove duplicate records from the list of SeqRecords using ID.\n",
    "  \"\"\"\n",
    "  accession_ids: list[str] = []\n",
    "  duplicates = []\n",
    "  duplicate_ids = []\n",
    "\n",
    "  retained_records: list[SeqRecord] = []\n",
    "  for idx, fasta in enumerate(organisms_records):\n",
    "    if fasta.id in accession_ids:\n",
    "      duplicates.append(idx)\n",
    "      duplicate_ids.append(fasta.id)\n",
    "    else:\n",
    "      retained_records.append(fasta)\n",
    "    accession_ids.append(fasta.id)\n",
    "\n",
    "  return retained_records"
   ]
  },
  {
   "cell_type": "code",
   "execution_count": 19,
   "metadata": {},
   "outputs": [
    {
     "name": "stdout",
     "output_type": "stream",
     "text": [
      "Endozoicomonas sp. ONNA2 Saved\n",
      "Endozoicomonas acroporae Saved\n",
      "Endozoicomonas sp. ONNA1 Saved\n",
      "Endozoicomonas sp. SESOKO3 Saved\n",
      "Endozoicomonas sp. SESOKO2 Saved\n",
      "Endozoicomonas sp. SESOKO4 Saved\n",
      "Endozoicomonas sp. YOMI1 Saved\n",
      "Endozoicomonas sp. SESOKO1 Saved\n",
      "Endozoicomonas sp. ISHI1 Saved\n",
      "Endozoicomonas montiporae Saved\n",
      "Endozoicomonas sp. G2_1 Saved\n",
      "Endozoicomonas sp. Saved\n",
      "Endozoicomonas sp. G2_2 Saved\n",
      "Endozoicomonas coralli Saved\n",
      "Endozoicomonas gorgoniicola Saved\n",
      "Endozoicomonas euniceicola Saved\n"
     ]
    }
   ],
   "source": [
    "organisms_records = download_sequences()"
   ]
  },
  {
   "cell_type": "code",
   "execution_count": 20,
   "metadata": {},
   "outputs": [],
   "source": [
    "organisms_records = remove_duplicates(organisms_records)"
   ]
  },
  {
   "cell_type": "code",
   "execution_count": 21,
   "metadata": {},
   "outputs": [
    {
     "name": "stdout",
     "output_type": "stream",
     "text": [
      "Done writing unaligned fasta\n"
     ]
    }
   ],
   "source": [
    "SeqIO.write(organisms_records, os.path.join(\"../../outputs/pilot_3_shotgun\", \"all_unaligned.fasta\"), \"fasta\")\n",
    "print(\"Done writing unaligned fasta\")"
   ]
  },
  {
   "cell_type": "markdown",
   "metadata": {},
   "source": [
    "## Align the sequences\n",
    "I had MUSCLE v5.1 {cite:p}`Edgar_2022` align [them](../../outputs/pilot_3_shotgun/all_unaligned.fasta).\n",
    "\n",
    "```bash\n",
    "muscle5.1 -input ../../outputs/pilot_3_shotgun/all_unaligned.fasta -output ../../outputs/pilot_3_shotgun/local/muscle/all_aligned.fasta\n",
    "```\n"
   ]
  }
 ],
 "metadata": {
  "kernelspec": {
   "display_name": ".venv",
   "language": "python",
   "name": "python3"
  },
  "language_info": {
   "codemirror_mode": {
    "name": "ipython",
    "version": 3
   },
   "file_extension": ".py",
   "mimetype": "text/x-python",
   "name": "python",
   "nbconvert_exporter": "python",
   "pygments_lexer": "ipython3",
   "version": "3.11.4"
  }
 },
 "nbformat": 4,
 "nbformat_minor": 2
}
