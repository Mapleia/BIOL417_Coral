{
 "cells": [
  {
   "cell_type": "markdown",
   "metadata": {},
   "source": [
    "## Load gff into memory and into a sqlite database"
   ]
  },
  {
   "cell_type": "code",
   "execution_count": null,
   "metadata": {},
   "outputs": [],
   "source": [
    "import pprint\n",
    "from BCBio.GFF import GFFExaminer, parse\n",
    "import os\n",
    "from Bio.SeqRecord import SeqRecord\n",
    "import logging\n",
    "from gffutils import Feature, FeatureDB, create_db\n"
   ]
  },
  {
   "cell_type": "code",
   "execution_count": null,
   "metadata": {},
   "outputs": [],
   "source": [
    "logger = logging.getLogger(__name__)"
   ]
  },
  {
   "cell_type": "code",
   "execution_count": null,
   "metadata": {},
   "outputs": [],
   "source": [
    "# https://daler.github.io/gffutils/database-import.html\n",
    "# https://useast.ensembl.org/info/website/upload/gff.html\n",
    "def load_db(file_path: str, dirpath: str, read_map: bool = False, close: bool = True):\n",
    "  \"\"\"\n",
    "    Load the `.gff` file into a `gffutils.FeatureDB` object.\n",
    "\n",
    "    If `read_map` is `True`, read the map of the `.gff` file.\n",
    "\n",
    "    If `close` is `True`, close the file handle.\n",
    "  \"\"\"\n",
    "  db_path = os.path.join(dirpath, \"genome.db\")\n",
    "  in_handle = open(file_path, \"r\")\n",
    "  db = create_db(file_path, dbfn=db_path, force=True, keep_order=True, merge_strategy='merge', sort_attribute_values=True)\n",
    "\n",
    "  if read_map:\n",
    "    examiner = GFFExaminer()\n",
    "    pprint.pprint(examiner.parent_child_map(in_handle))\n",
    "\n",
    "  if close:\n",
    "    in_handle.close()\n",
    "    return db\n",
    "  else:\n",
    "    return db, in_handle\n",
    "\n",
    "\n",
    "def load_gff(list_unpacked: list[str], read_all: bool = False, parse_gff: bool = False):\n",
    "  \"\"\"\n",
    "    Load the `.gff` files into a list of `SeqRecord` objects if `parse_gff` is `True`.\n",
    "\n",
    "    If `read_all` is `True`, read the map of the `.gff` file.\n",
    "\n",
    "    Load the `.gff` files into a list of `gffutils.FeatureDB` objects.\n",
    "  \"\"\"\n",
    "\n",
    "  results: list[SeqRecord] = []\n",
    "  db_list: list[FeatureDB] = []\n",
    "  for file_path in list_unpacked:\n",
    "    logger.debug(file_path)\n",
    "\n",
    "    if not file_path.endswith(\".gff\"):\n",
    "      raise Exception(\"File is not a .gff file\")\n",
    "\n",
    "    parent_dir = os.path.dirname(file_path)\n",
    "\n",
    "    loaded = load_db(file_path, parent_dir, read_all, False)\n",
    "    if not isinstance(loaded, tuple):\n",
    "      raise Exception(\"db is not of type gffutils.FeatureDB\")\n",
    "\n",
    "    db, in_handle = loaded\n",
    "    logger.debug(\"FeatureDB\")\n",
    "    db_list.append(db)\n",
    "\n",
    "    if parse_gff:\n",
    "      records = list(parse(in_handle))\n",
    "      results.extend(records)\n",
    "\n",
    "    in_handle.close()\n",
    "\n",
    "  return results, db_list\n"
   ]
  },
  {
   "cell_type": "markdown",
   "metadata": {},
   "source": [
    "## Find 16S rRNA genes"
   ]
  },
  {
   "cell_type": "code",
   "execution_count": null,
   "metadata": {},
   "outputs": [],
   "source": [
    "def get_16S_gene(annotation_db: FeatureDB | tuple) -> Feature | None:\n",
    "  if isinstance(annotation_db, tuple):\n",
    "    raise Exception(\"db is not of type gffutils.FeatureDB\")\n",
    "\n",
    "  features = list(annotation_db.features_of_type(\"rRNA\"))\n",
    "  for feature in features:\n",
    "    if feature.attributes[\"product\"][0] == \"16S ribosomal RNA\":\n",
    "      return feature"
   ]
  },
  {
   "cell_type": "code",
   "execution_count": null,
   "metadata": {},
   "outputs": [],
   "source": [
    "def get_16S_list():\n",
    "  records, dbs = load_gff(unpacked_gff, False, False) # type: ignore\n",
    "  results: list[Feature] = []\n",
    "  for db in dbs:\n",
    "    db.analyze()\n",
    "    found_16S = get_16S_gene(db)\n",
    "    if db.conn is not None:\n",
    "      db.conn.close()\n",
    "    if found_16S is not None:\n",
    "      results.append(found_16S)\n",
    "  return results\n",
    "\n",
    "list_16S = get_16S_list()\n"
   ]
  }
 ],
 "metadata": {
  "language_info": {
   "name": "python"
  }
 },
 "nbformat": 4,
 "nbformat_minor": 2
}
